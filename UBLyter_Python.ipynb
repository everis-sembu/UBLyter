{
 "cells": [
  {
   "cell_type": "markdown",
   "metadata": {},
   "source": [
    "### Imports"
   ]
  },
  {
   "cell_type": "code",
   "execution_count": 211,
   "metadata": {},
   "outputs": [],
   "source": [
    "from __future__ import print_function\n",
    "import lxml.etree as tree\n",
    "import aspell"
   ]
  },
  {
   "cell_type": "markdown",
   "metadata": {},
   "source": [
    "### Set the main distribution parameters"
   ]
  },
  {
   "cell_type": "code",
   "execution_count": 70,
   "metadata": {},
   "outputs": [],
   "source": [
    "stage = \"Pre-award\"\n",
    "UBLversion = \"2.3\"\n",
    "tstamp  = \"20190331-1500z\""
   ]
  },
  {
   "cell_type": "markdown",
   "metadata": {},
   "source": [
    "### Set the global environment variables"
   ]
  },
  {
   "cell_type": "code",
   "execution_count": 71,
   "metadata": {},
   "outputs": [],
   "source": [
    "mod = \"./mod/\"\n",
    "gc = \"./gc/\"\n",
    "ident = \"./ident/\"\n",
    "massage = \"./massage/\"\n",
    "util = \"./util/\"\n",
    "lib = \"./lib/\""
   ]
  },
  {
   "cell_type": "markdown",
   "metadata": {},
   "source": [
    "### Timestamps"
   ]
  },
  {
   "cell_type": "code",
   "execution_count": 72,
   "metadata": {},
   "outputs": [],
   "source": [
    "gc2obdndr = \"20190320-0140z\"\n",
    "ods2obdgc = \"20180921-2010z\"\n",
    "cvagcxsl  = \"20130416-0040z\"\n",
    "cva2sch   = \"20130207-1940z\"\n",
    "gc2odsxml = \"20170727-0220z\""
   ]
  },
  {
   "cell_type": "markdown",
   "metadata": {},
   "source": [
    "# ODS to GC"
   ]
  },
  {
   "cell_type": "markdown",
   "metadata": {},
   "source": [
    "## Transform the ODF spread-sheet into OASIS Genericode XML"
   ]
  },
  {
   "cell_type": "code",
   "execution_count": 73,
   "metadata": {},
   "outputs": [],
   "source": [
    "source1 = mod + \"UBL-Library-Google-\" + UBLversion + \".ods\"\n",
    "source2 = mod + \"UBL-Documents-Google-\" + UBLversion + \".ods\"\n",
    "identification = ident + \"ident-UBL-\"+ UBLversion + \"-\" + stage + \".xml\"\n",
    "lengthen_model_name_uri = massage + \"massageModelName-\" + UBLversion + \"-\" + stage + \".xml\"\n",
    "target = gc + \"UBL-Entities-\" + UBLversion + \".gc\"\n",
    "saxon = lib + \"saxon-6.5.5.jar\""
   ]
  },
  {
   "cell_type": "code",
   "execution_count": 74,
   "metadata": {},
   "outputs": [
    {
     "name": "stdout",
     "output_type": "stream",
     "text": [
      "./mod/UBL-Library-Google-2.3.ods\n",
      "./mod/UBL-Documents-Google-2.3.ods\n",
      "./ident/ident-UBL-2.3-Pre-award.xml\n",
      "./massage/massageModelName-2.3-Pre-award.xml\n",
      "./gc/UBL-Entities-2.3.gc\n"
     ]
    }
   ],
   "source": [
    "print(source1)\n",
    "print(source2)\n",
    "print(identification)\n",
    "print(lengthen_model_name_uri)\n",
    "print(target)"
   ]
  },
  {
   "cell_type": "markdown",
   "metadata": {},
   "source": [
    "#### Check files"
   ]
  },
  {
   "cell_type": "code",
   "execution_count": 75,
   "metadata": {},
   "outputs": [],
   "source": [
    "files = [source1, source2, identification, lengthen_model_name_uri]\n",
    "\n",
    "for file in files:\n",
    "    try:\n",
    "        fh = open(file,'r')\n",
    "    # Store configuration file values\n",
    "    except FileNotFoundError:\n",
    "        print(file, \" was not found\")"
   ]
  },
  {
   "cell_type": "code",
   "execution_count": 76,
   "metadata": {},
   "outputs": [],
   "source": [
    "xsl = \"-xsl:\" + util + \"Crane-ods2obdgc-\" + ods2obdgc + \"/Crane-ods2obdgc.xsl\"\n",
    "o = \"-o:\" + target,\n",
    "it = \"-it:ods-uri\"\n",
    "ods_uri = \"ods-uri=\" + source1 + \",\" + source2\n",
    "identification_from_util_folder = \"../../ident/\"\n",
    "ident_uri = \"identification-uri=\" + identification_from_util_folder + \"ident-UBL-\"+ UBLversion + \"-\" + stage + \".xml\""
   ]
  },
  {
   "cell_type": "code",
   "execution_count": 77,
   "metadata": {},
   "outputs": [
    {
     "name": "stdout",
     "output_type": "stream",
     "text": [
      "-xsl:./util/Crane-ods2obdgc-20180921-2010z/Crane-ods2obdgc.xsl\n",
      "('-o:./gc/UBL-Entities-2.3.gc',)\n",
      "-it:ods-uri\n",
      "ods-uri=./mod/UBL-Library-Google-2.3.ods,./mod/UBL-Documents-Google-2.3.ods\n",
      "../../ident/\n",
      "identification-uri=../../ident/ident-UBL-2.3-Pre-award.xml\n"
     ]
    }
   ],
   "source": [
    "sheets = [xsl, o, it, ods_uri, identification_from_util_folder, ident_uri]\n",
    "\n",
    "for sheet in sheets:\n",
    "   print(sheet)"
   ]
  },
  {
   "cell_type": "code",
   "execution_count": 78,
   "metadata": {},
   "outputs": [],
   "source": [
    "arglist = [xsl, o, it, ods_uri, ident_uri]"
   ]
  },
  {
   "cell_type": "markdown",
   "metadata": {},
   "source": [
    "## Sending files to HTTP Saxon service"
   ]
  },
  {
   "cell_type": "code",
   "execution_count": 79,
   "metadata": {},
   "outputs": [
    {
     "ename": "ConnectionRefusedError",
     "evalue": "[Errno 111] Connection refused",
     "output_type": "error",
     "traceback": [
      "\u001b[0;31m---------------------------------------------------------------------------\u001b[0m",
      "\u001b[0;31mConnectionRefusedError\u001b[0m                    Traceback (most recent call last)",
      "\u001b[0;32m<ipython-input-79-0474f6a5a761>\u001b[0m in \u001b[0;36m<module>\u001b[0;34m\u001b[0m\n\u001b[1;32m      1\u001b[0m \u001b[0;32mimport\u001b[0m \u001b[0msocket\u001b[0m\u001b[0;34m\u001b[0m\u001b[0;34m\u001b[0m\u001b[0m\n\u001b[1;32m      2\u001b[0m \u001b[0mclient_socket\u001b[0m \u001b[0;34m=\u001b[0m \u001b[0msocket\u001b[0m\u001b[0;34m.\u001b[0m\u001b[0msocket\u001b[0m\u001b[0;34m(\u001b[0m\u001b[0msocket\u001b[0m\u001b[0;34m.\u001b[0m\u001b[0mAF_INET\u001b[0m\u001b[0;34m,\u001b[0m \u001b[0msocket\u001b[0m\u001b[0;34m.\u001b[0m\u001b[0mSOCK_STREAM\u001b[0m\u001b[0;34m)\u001b[0m\u001b[0;34m\u001b[0m\u001b[0;34m\u001b[0m\u001b[0m\n\u001b[0;32m----> 3\u001b[0;31m \u001b[0mclient_socket\u001b[0m\u001b[0;34m.\u001b[0m\u001b[0mconnect\u001b[0m\u001b[0;34m(\u001b[0m\u001b[0;34m(\u001b[0m\u001b[0;34m\"localhost\"\u001b[0m\u001b[0;34m,\u001b[0m \u001b[0;36m5000\u001b[0m\u001b[0;34m)\u001b[0m\u001b[0;34m)\u001b[0m\u001b[0;34m\u001b[0m\u001b[0;34m\u001b[0m\u001b[0m\n\u001b[0m\u001b[1;32m      4\u001b[0m \u001b[0;34m\u001b[0m\u001b[0m\n\u001b[1;32m      5\u001b[0m \u001b[0;32mwhile\u001b[0m \u001b[0;36m1\u001b[0m\u001b[0;34m:\u001b[0m\u001b[0;34m\u001b[0m\u001b[0;34m\u001b[0m\u001b[0m\n",
      "\u001b[0;31mConnectionRefusedError\u001b[0m: [Errno 111] Connection refused"
     ]
    }
   ],
   "source": [
    "import socket\n",
    "client_socket = socket.socket(socket.AF_INET, socket.SOCK_STREAM)\n",
    "client_socket.connect((\"localhost\", 5000))\n",
    "\n",
    "while 1:\n",
    "    client_socket.sendall(xsl.encode('utf-8') + \"\\n\".encode('utf-8'))\n",
    "    client_socket.sendall(o[0].encode('utf-8') + \"\\n\".encode('utf-8'))\n",
    "    client_socket.sendall(it.encode('utf-8') + \"\\n\".encode('utf-8'))\n",
    "    client_socket.sendall(ods_uri.encode('utf-8') + \"\\n\".encode('utf-8'))\n",
    "    client_socket.sendall(ident_uri.encode('utf-8') + \"\\n\".encode('utf-8'))\n",
    "    client_socket.close()\n",
    "    break;"
   ]
  },
  {
   "cell_type": "markdown",
   "metadata": {},
   "source": [
    "# GC to XML"
   ]
  },
  {
   "cell_type": "code",
   "execution_count": null,
   "metadata": {},
   "outputs": [],
   "source": [
    "target_xml = gc + \"UBL-Entities-\" + UBLversion + \".gc\""
   ]
  },
  {
   "cell_type": "code",
   "execution_count": null,
   "metadata": {},
   "outputs": [],
   "source": [
    "xsl_xml = \"-xsl:\" + util + \"Crane-gc2odsxml-\" + gc2odsxml + \"/Crane-gc2odsxml.xsl\"\n",
    "o_xml = \"-o:\" + target_xml"
   ]
  }
 ],
 "metadata": {
  "kernelspec": {
   "display_name": "Python 3",
   "language": "python",
   "name": "python3"
  },
  "language_info": {
   "codemirror_mode": {
    "name": "ipython",
    "version": 3
   },
   "file_extension": ".py",
   "mimetype": "text/x-python",
   "name": "python",
   "nbconvert_exporter": "python",
   "pygments_lexer": "ipython3",
   "version": "3.7.1"
  }
 },
 "nbformat": 4,
 "nbformat_minor": 2
}
