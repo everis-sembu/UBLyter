{
 "cells": [
  {
   "cell_type": "markdown",
   "metadata": {},
   "source": [
    "## Set the main distribution parameters"
   ]
  },
  {
   "cell_type": "code",
   "execution_count": 14,
   "metadata": {},
   "outputs": [],
   "source": [
    "from __future__ import print_function"
   ]
  },
  {
   "cell_type": "code",
   "execution_count": 15,
   "metadata": {},
   "outputs": [],
   "source": [
    "stage = \"Pre-award\"\n",
    "UBLversion = \"2.3\"\n",
    "tstamp  = \"20190331-1500z\""
   ]
  },
  {
   "cell_type": "markdown",
   "metadata": {},
   "source": [
    "### Set the global environment variables"
   ]
  },
  {
   "cell_type": "code",
   "execution_count": 16,
   "metadata": {},
   "outputs": [],
   "source": [
    "mod = \"./mod/\"\n",
    "gc = \"./gc/\"\n",
    "ident = \"./ident/\"\n",
    "massage = \"./massage/\"\n",
    "util = \"./util/\"\n",
    "lib = \"./lib/\""
   ]
  },
  {
   "cell_type": "markdown",
   "metadata": {},
   "source": [
    "#### Timestamps"
   ]
  },
  {
   "cell_type": "code",
   "execution_count": 17,
   "metadata": {},
   "outputs": [],
   "source": [
    "gc2obdndr = \"20190320-0140z\"\n",
    "ods2obdgc = \"20180921-2010z\"\n",
    "cvagcxsl  = \"20130416-0040z\"\n",
    "cva2sch   = \"20130207-1940z\"\n",
    "gc2odsxml = \"20170727-0220z\""
   ]
  },
  {
   "cell_type": "markdown",
   "metadata": {},
   "source": [
    "## Transform the ODF spread-sheet into OASIS Genericode XML"
   ]
  },
  {
   "cell_type": "code",
   "execution_count": 18,
   "metadata": {},
   "outputs": [],
   "source": [
    "source1 = mod + \"UBL-Library-Google-\" + UBLversion + \".ods\"\n",
    "source2 = mod + \"UBL-Documents-Google-\" + UBLversion + \".ods\"\n",
    "identification = ident + \"ident-UBL-\"+ UBLversion + \"-\" + stage + \".xml\"\n",
    "lengthen_model_name_uri = massage + \"massageModelName-\" + UBLversion + \"-\" + stage + \".xml\"\n",
    "target = gc + \"UBL-Entities-\" + UBLversion + \".gc\"\n",
    "saxon = lib + \"saxon-6.5.5.jar\""
   ]
  },
  {
   "cell_type": "code",
   "execution_count": 19,
   "metadata": {},
   "outputs": [
    {
     "name": "stdout",
     "output_type": "stream",
     "text": [
      "./mod/UBL-Library-Google-2.3.ods\n",
      "./mod/UBL-Documents-Google-2.3.ods\n",
      "./ident/ident-UBL-2.3-Pre-award.xml\n",
      "./massage/massageModelName-2.3-Pre-award.xml\n",
      "./gc/UBL-Entities-2.3.gc\n"
     ]
    }
   ],
   "source": [
    "print(source1)\n",
    "print(source2)\n",
    "print(identification)\n",
    "print(lengthen_model_name_uri)\n",
    "print(target)"
   ]
  },
  {
   "cell_type": "markdown",
   "metadata": {},
   "source": [
    "#### Check files"
   ]
  },
  {
   "cell_type": "code",
   "execution_count": 20,
   "metadata": {},
   "outputs": [],
   "source": [
    "files = [source1, source2, identification, lengthen_model_name_uri]\n",
    "\n",
    "for file in files:\n",
    "    try:\n",
    "        fh = open(file,'r')\n",
    "    # Store configuration file values\n",
    "    except FileNotFoundError:\n",
    "        print(file, \" was not found\")"
   ]
  },
  {
   "cell_type": "code",
   "execution_count": 21,
   "metadata": {},
   "outputs": [],
   "source": [
    "xsl = \"-xsl:\" + util + \"Crane-ods2obdgc-\" + ods2obdgc + \"/Crane-ods2obdgc.xsl\"\n",
    "o = \"-o:\" + target,\n",
    "it = \"-it:ods-uri\"\n",
    "ods_uri = \"ods-uri=\" + source1 + \",\" + source2\n",
    "identification_from_util_folder = \"../../ident/\"\n",
    "ident_uri = \"identification-uri=\" + identification_from_util_folder + \"ident-UBL-\"+ UBLversion + \"-\" + stage + \".xml\""
   ]
  },
  {
   "cell_type": "code",
   "execution_count": 22,
   "metadata": {},
   "outputs": [
    {
     "name": "stdout",
     "output_type": "stream",
     "text": [
      "-xsl:./util/Crane-ods2obdgc-20180921-2010z/Crane-ods2obdgc.xsl\n",
      "('-o:./gc/UBL-Entities-2.3.gc',)\n",
      "-it:ods-uri\n",
      "ods-uri=./mod/UBL-Library-Google-2.3.ods,./mod/UBL-Documents-Google-2.3.ods\n",
      "../../ident/\n",
      "identification-uri=../../ident/ident-UBL-2.3-Pre-award.xml\n"
     ]
    }
   ],
   "source": [
    "sheets = [xsl, o, it, ods_uri, identification_from_util_folder, ident_uri]\n",
    "\n",
    "for sheet in sheets:\n",
    "   print(sheet)"
   ]
  },
  {
   "cell_type": "code",
   "execution_count": 23,
   "metadata": {},
   "outputs": [],
   "source": [
    "arglist = [xsl, o, it, ods_uri, ident_uri]"
   ]
  },
  {
   "cell_type": "code",
   "execution_count": 62,
   "metadata": {},
   "outputs": [],
   "source": [
    "import socket\n",
    "client_socket = socket.socket(socket.AF_INET, socket.SOCK_STREAM)\n",
    "client_socket.connect((\"localhost\", 5000))\n",
    "\n",
    "while 1:\n",
    "    client_socket.sendall(xsl.encode('utf-8') + \"\\n\".encode('utf-8'))\n",
    "    client_socket.sendall(o[0].encode('utf-8') + \"\\n\".encode('utf-8'))\n",
    "    client_socket.sendall(it.encode('utf-8') + \"\\n\".encode('utf-8'))\n",
    "    client_socket.sendall(ods_uri.encode('utf-8') + \"\\n\".encode('utf-8'))\n",
    "    client_socket.sendall(ident_uri.encode('utf-8') + \"\\n\".encode('utf-8'))\n",
    "    client_socket.close()\n",
    "    break;"
   ]
  },
  {
   "cell_type": "code",
   "execution_count": 66,
   "metadata": {},
   "outputs": [],
   "source": [
    "xsl2 = util + \"Crane-ods2obdgc-\" + ods2obdgc + \"/Crane-ods2obdgc.xsl\"\n",
    "o2 = target,\n",
    "it2 = \"ods-uri\"\n",
    "ods_uri2 = source1\n",
    "identification_from_util_folder2 = \"../../ident/\"\n",
    "ident_uri2= \"identification-uri=\" + identification_from_util_folder + \"ident-UBL-\"+ UBLversion + \"-\" + stage + \".xml\""
   ]
  },
  {
   "cell_type": "code",
   "execution_count": 68,
   "metadata": {},
   "outputs": [
    {
     "ename": "SyntaxError",
     "evalue": "invalid or missing encoding declaration for './mod/UBL-Library-Google-2.3.ods' (<string>)",
     "output_type": "error",
     "traceback": [
      "\u001b[0;36m  File \u001b[0;32m\"<string>\"\u001b[0;36m, line \u001b[0;32munknown\u001b[0m\n\u001b[0;31mSyntaxError\u001b[0m\u001b[0;31m:\u001b[0m invalid or missing encoding declaration for './mod/UBL-Library-Google-2.3.ods'\n"
     ]
    }
   ],
   "source": [
    "import lxml.etree\n",
    "\n",
    "dom = etree.parse(ods_uri2.encode('utf-8'))\n",
    "xslt = etree.parse(xsl2)\n",
    "transform = etree.XSLT(xslt)\n",
    "newdom = transform(dom)\n",
    "print(etree.tostring(newdom, pretty_print=True))"
   ]
  },
  {
   "cell_type": "code",
   "execution_count": null,
   "metadata": {},
   "outputs": [],
   "source": [
    "def schematron(cls, schema):\n",
    "        transforms = xsl2\n",
    "        \n",
    "        if isinstance(schema, file):\n",
    "            compiled = etree.parse(schema)\n",
    "        else:\n",
    "            compiled = schema\n",
    "        for filename in transforms:\n",
    "            with resource_stream(\n",
    "                    __name__, filename) as stream:\n",
    "                xform_xml = etree.parse(stream)\n",
    "                xform = etree.XSLT(xform_xml)\n",
    "                compiled = xform(compiled)\n",
    "        return etree.XSLT(compiled)="
   ]
  }
 ],
 "metadata": {
  "kernelspec": {
   "display_name": "Python 3",
   "language": "python",
   "name": "python3"
  },
  "language_info": {
   "codemirror_mode": {
    "name": "ipython",
    "version": 3
   },
   "file_extension": ".py",
   "mimetype": "text/x-python",
   "name": "python",
   "nbconvert_exporter": "python",
   "pygments_lexer": "ipython3",
   "version": "3.7.1"
  }
 },
 "nbformat": 4,
 "nbformat_minor": 2
}
