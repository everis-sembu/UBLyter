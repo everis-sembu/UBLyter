{
 "cells": [
  {
   "cell_type": "markdown",
   "metadata": {},
   "source": [
    "## Set the main distribution parameters"
   ]
  },
  {
   "cell_type": "code",
   "execution_count": 14,
   "metadata": {},
   "outputs": [],
   "source": [
    "from __future__ import print_function"
   ]
  },
  {
   "cell_type": "code",
   "execution_count": 15,
   "metadata": {},
   "outputs": [],
   "source": [
    "stage = \"Pre-award\"\n",
    "UBLversion = \"2.3\"\n",
    "tstamp  = \"20190331-1500z\""
   ]
  },
  {
   "cell_type": "markdown",
   "metadata": {},
   "source": [
    "### Set the global environment variables"
   ]
  },
  {
   "cell_type": "code",
   "execution_count": 16,
   "metadata": {},
   "outputs": [],
   "source": [
    "mod = \"./mod/\"\n",
    "gc = \"./gc/\"\n",
    "ident = \"./ident/\"\n",
    "massage = \"./massage/\"\n",
    "util = \"./util/\"\n",
    "lib = \"./lib/\""
   ]
  },
  {
   "cell_type": "markdown",
   "metadata": {},
   "source": [
    "#### Timestamps"
   ]
  },
  {
   "cell_type": "code",
   "execution_count": 17,
   "metadata": {},
   "outputs": [],
   "source": [
    "gc2obdndr = \"20190320-0140z\"\n",
    "ods2obdgc = \"20180921-2010z\"\n",
    "cvagcxsl  = \"20130416-0040z\"\n",
    "cva2sch   = \"20130207-1940z\"\n",
    "gc2odsxml = \"20170727-0220z\""
   ]
  },
  {
   "cell_type": "markdown",
   "metadata": {},
   "source": [
    "## Transform the ODF spread-sheet into OASIS Genericode XML"
   ]
  },
  {
   "cell_type": "code",
   "execution_count": 18,
   "metadata": {},
   "outputs": [],
   "source": [
    "source1 = mod + \"UBL-Library-Google-\" + UBLversion + \".ods\"\n",
    "source2 = mod + \"UBL-Documents-Google-\" + UBLversion + \".ods\"\n",
    "identification = ident + \"ident-UBL-\"+ UBLversion + \"-\" + stage + \".xml\"\n",
    "lengthen_model_name_uri = massage + \"massageModelName-\" + UBLversion + \"-\" + stage + \".xml\"\n",
    "target = gc + \"UBL-Entities-\" + UBLversion + \".gc\"\n",
    "saxon = lib + \"saxon-6.5.5.jar\""
   ]
  },
  {
   "cell_type": "code",
   "execution_count": 19,
   "metadata": {},
   "outputs": [
    {
     "name": "stdout",
     "output_type": "stream",
     "text": [
      "./mod/UBL-Library-Google-2.3.ods\n",
      "./mod/UBL-Documents-Google-2.3.ods\n",
      "./ident/ident-UBL-2.3-Pre-award.xml\n",
      "./massage/massageModelName-2.3-Pre-award.xml\n",
      "./gc/UBL-Entities-2.3.gc\n"
     ]
    }
   ],
   "source": [
    "print(source1)\n",
    "print(source2)\n",
    "print(identification)\n",
    "print(lengthen_model_name_uri)\n",
    "print(target)"
   ]
  },
  {
   "cell_type": "markdown",
   "metadata": {},
   "source": [
    "#### Check files"
   ]
  },
  {
   "cell_type": "code",
   "execution_count": 20,
   "metadata": {},
   "outputs": [],
   "source": [
    "files = [source1, source2, identification, lengthen_model_name_uri]\n",
    "\n",
    "for file in files:\n",
    "    try:\n",
    "        fh = open(file,'r')\n",
    "    # Store configuration file values\n",
    "    except FileNotFoundError:\n",
    "        print(file, \" was not found\")"
   ]
  },
  {
   "cell_type": "code",
   "execution_count": 21,
   "metadata": {},
   "outputs": [],
   "source": [
    "xsl = \"-xsl:\" + util + \"Crane-ods2obdgc-\" + ods2obdgc + \"/Crane-ods2obdgc.xsl\"\n",
    "o = \"-o:\" + target,\n",
    "it = \"-it:ods-uri\"\n",
    "ods_uri = \"ods-uri=\" + source1 + \",\" + source2\n",
    "identification_from_util_folder = \"../../ident/\"\n",
    "ident_uri = \"identification-uri=\" + identification_from_util_folder + \"ident-UBL-\"+ UBLversion + \"-\" + stage + \".xml\""
   ]
  },
  {
   "cell_type": "code",
   "execution_count": 22,
   "metadata": {},
   "outputs": [
    {
     "name": "stdout",
     "output_type": "stream",
     "text": [
      "-xsl:./util/Crane-ods2obdgc-20180921-2010z/Crane-ods2obdgc.xsl\n",
      "('-o:./gc/UBL-Entities-2.3.gc',)\n",
      "-it:ods-uri\n",
      "ods-uri=./mod/UBL-Library-Google-2.3.ods,./mod/UBL-Documents-Google-2.3.ods\n",
      "../../ident/\n",
      "identification-uri=../../ident/ident-UBL-2.3-Pre-award.xml\n"
     ]
    }
   ],
   "source": [
    "sheets = [xsl, o, it, ods_uri, identification_from_util_folder, ident_uri]\n",
    "\n",
    "for sheet in sheets:\n",
    "   print(sheet)"
   ]
  },
  {
   "cell_type": "code",
   "execution_count": 23,
   "metadata": {},
   "outputs": [],
   "source": [
    "arglist = [xsl, o, it, ods_uri, ident_uri]"
   ]
  },
  {
   "cell_type": "code",
   "execution_count": 62,
   "metadata": {},
   "outputs": [],
   "source": [
    "import socket\n",
    "client_socket = socket.socket(socket.AF_INET, socket.SOCK_STREAM)\n",
    "client_socket.connect((\"localhost\", 5000))\n",
    "\n",
    "while 1:\n",
    "    client_socket.sendall(xsl.encode('utf-8') + \"\\n\".encode('utf-8'))\n",
    "    client_socket.sendall(o[0].encode('utf-8') + \"\\n\".encode('utf-8'))\n",
    "    client_socket.sendall(it.encode('utf-8') + \"\\n\".encode('utf-8'))\n",
    "    client_socket.sendall(ods_uri.encode('utf-8') + \"\\n\".encode('utf-8'))\n",
    "    client_socket.sendall(ident_uri.encode('utf-8') + \"\\n\".encode('utf-8'))\n",
    "    client_socket.close()\n",
    "    break;"
   ]
  },
  {
   "cell_type": "code",
   "execution_count": 64,
   "metadata": {},
   "outputs": [],
   "source": [
    "xsl2 = util + \"Crane-ods2obdgc-\" + ods2obdgc + \"/Crane-ods2obdgc.xsl\"\n",
    "o2 = target,\n",
    "it2 = \"ods-uri\"\n",
    "ods_uri2 = source1\n",
    "identification_from_util_folder2 = \"../../ident/\"\n",
    "ident_uri2= \"identification-uri=\" + identification_from_util_folder + \"ident-UBL-\"+ UBLversion + \"-\" + stage + \".xml\""
   ]
  },
  {
   "cell_type": "code",
   "execution_count": 65,
   "metadata": {},
   "outputs": [
    {
     "ename": "OSError",
     "evalue": "Error reading file 'ods-uri=./mod/UBL-Library-Google-2.3.ods,./mod/UBL-Documents-Google-2.3.ods': failed to load external entity \"ods-uri=./mod/UBL-Library-Google-2.3.ods,./mod/UBL-Documents-Google-2.3.ods\"",
     "output_type": "error",
     "traceback": [
      "\u001b[0;31m---------------------------------------------------------------------------\u001b[0m",
      "\u001b[0;31mOSError\u001b[0m                                   Traceback (most recent call last)",
      "\u001b[0;32m<ipython-input-65-204042814953>\u001b[0m in \u001b[0;36m<module>\u001b[0;34m\u001b[0m\n\u001b[1;32m      1\u001b[0m \u001b[0;32mimport\u001b[0m \u001b[0mlxml\u001b[0m\u001b[0;34m.\u001b[0m\u001b[0metree\u001b[0m \u001b[0;32mas\u001b[0m \u001b[0mET\u001b[0m\u001b[0;34m\u001b[0m\u001b[0;34m\u001b[0m\u001b[0m\n\u001b[1;32m      2\u001b[0m \u001b[0;34m\u001b[0m\u001b[0m\n\u001b[0;32m----> 3\u001b[0;31m \u001b[0mdom\u001b[0m \u001b[0;34m=\u001b[0m \u001b[0mET\u001b[0m\u001b[0;34m.\u001b[0m\u001b[0mparse\u001b[0m\u001b[0;34m(\u001b[0m\u001b[0mods_uri2\u001b[0m\u001b[0;34m)\u001b[0m\u001b[0;34m\u001b[0m\u001b[0;34m\u001b[0m\u001b[0m\n\u001b[0m\u001b[1;32m      4\u001b[0m \u001b[0mxslt\u001b[0m \u001b[0;34m=\u001b[0m \u001b[0mET\u001b[0m\u001b[0;34m.\u001b[0m\u001b[0mparse\u001b[0m\u001b[0;34m(\u001b[0m\u001b[0mxsl2\u001b[0m\u001b[0;34m)\u001b[0m\u001b[0;34m\u001b[0m\u001b[0;34m\u001b[0m\u001b[0m\n\u001b[1;32m      5\u001b[0m \u001b[0mtransform\u001b[0m \u001b[0;34m=\u001b[0m \u001b[0mET\u001b[0m\u001b[0;34m.\u001b[0m\u001b[0mXSLT\u001b[0m\u001b[0;34m(\u001b[0m\u001b[0mxslt\u001b[0m\u001b[0;34m)\u001b[0m\u001b[0;34m\u001b[0m\u001b[0;34m\u001b[0m\u001b[0m\n",
      "\u001b[0;32msrc/lxml/etree.pyx\u001b[0m in \u001b[0;36mlxml.etree.parse\u001b[0;34m()\u001b[0m\n",
      "\u001b[0;32msrc/lxml/parser.pxi\u001b[0m in \u001b[0;36mlxml.etree._parseDocument\u001b[0;34m()\u001b[0m\n",
      "\u001b[0;32msrc/lxml/parser.pxi\u001b[0m in \u001b[0;36mlxml.etree._parseDocumentFromURL\u001b[0;34m()\u001b[0m\n",
      "\u001b[0;32msrc/lxml/parser.pxi\u001b[0m in \u001b[0;36mlxml.etree._parseDocFromFile\u001b[0;34m()\u001b[0m\n",
      "\u001b[0;32msrc/lxml/parser.pxi\u001b[0m in \u001b[0;36mlxml.etree._BaseParser._parseDocFromFile\u001b[0;34m()\u001b[0m\n",
      "\u001b[0;32msrc/lxml/parser.pxi\u001b[0m in \u001b[0;36mlxml.etree._ParserContext._handleParseResultDoc\u001b[0;34m()\u001b[0m\n",
      "\u001b[0;32msrc/lxml/parser.pxi\u001b[0m in \u001b[0;36mlxml.etree._handleParseResult\u001b[0;34m()\u001b[0m\n",
      "\u001b[0;32msrc/lxml/parser.pxi\u001b[0m in \u001b[0;36mlxml.etree._raiseParseError\u001b[0;34m()\u001b[0m\n",
      "\u001b[0;31mOSError\u001b[0m: Error reading file 'ods-uri=./mod/UBL-Library-Google-2.3.ods,./mod/UBL-Documents-Google-2.3.ods': failed to load external entity \"ods-uri=./mod/UBL-Library-Google-2.3.ods,./mod/UBL-Documents-Google-2.3.ods\""
     ]
    }
   ],
   "source": [
    "import lxml.etree as ET\n",
    "\n",
    "dom = ET.parse(ods_uri2)\n",
    "xslt = ET.parse(xsl2)\n",
    "transform = ET.XSLT(xslt)\n",
    "newdom = transform(dom)\n",
    "print(ET.tostring(newdom, pretty_print=True))"
   ]
  }
 ],
 "metadata": {
  "kernelspec": {
   "display_name": "Python 3",
   "language": "python",
   "name": "python3"
  },
  "language_info": {
   "codemirror_mode": {
    "name": "ipython",
    "version": 3
   },
   "file_extension": ".py",
   "mimetype": "text/x-python",
   "name": "python",
   "nbconvert_exporter": "python",
   "pygments_lexer": "ipython3",
   "version": "3.7.1"
  }
 },
 "nbformat": 4,
 "nbformat_minor": 2
}
