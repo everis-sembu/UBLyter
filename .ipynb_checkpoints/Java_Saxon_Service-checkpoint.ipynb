{
 "cells": [
  {
   "cell_type": "code",
   "execution_count": 1,
   "metadata": {},
   "outputs": [
    {
     "name": "stdout",
     "output_type": "stream",
     "text": [
      "TCPServer Waiting for client on port 5000\n",
      " THE CLIENT /127.0.0.1:50610 IS CONNECTED \n",
      "-xsl:./util/Crane-ods2obdgc-20180921-2010z/Crane-ods2obdgc.xsl\n",
      "0\n",
      "-o:./gc/UBL-Entities-2.3.gc\n",
      "1\n",
      "-it:ods-uri\n",
      "2\n",
      "ods-uri=./mod/UBL-Library-Google-2.3.ods,./mod/UBL-Documents-Google-2.3.ods\n",
      "3\n",
      "identification-uri=../../ident/ident-UBL-2.3-Pre-award.xml\n",
      "4\n",
      "Done Recieving\n",
      "-xsl:./util/Crane-ods2obdgc-20180921-2010z/Crane-ods2obdgc.xsl\n",
      "-o:./gc/UBL-Entities-2.3.gc\n",
      "-it:ods-uri\n",
      "ods-uri=./mod/UBL-Library-Google-2.3.ods,./mod/UBL-Documents-Google-2.3.ods\n",
      "identification-uri=../../ident/ident-UBL-2.3-Pre-award.xml\n",
      "Transformation started...this may take a while...\n",
      "Transformation done!\n"
     ]
    }
   ],
   "source": [
    "import net.sf.saxon.Transform;\n",
    "\n",
    "String fromclient;\n",
    "\n",
    "ServerSocket Server = new ServerSocket (5000);\n",
    "\n",
    "System.out.println (\"TCPServer Waiting for client on port 5000\");\n",
    "String[] args = new String[5];\n",
    "\n",
    "while(true) \n",
    "{\n",
    "    Socket connected = Server.accept();\n",
    "    System.out.println( \" THE CLIENT\"+\" \"+ connected.getInetAddress() +\":\"+connected.getPort()+\" IS CONNECTED \");\n",
    "\n",
    "    BufferedReader inFromClient = new BufferedReader(new InputStreamReader (connected.getInputStream()));\n",
    "    int i = 0;\n",
    "\n",
    "    while ( true )\n",
    "    {\n",
    "        \n",
    "        fromclient = inFromClient.readLine();\n",
    "        if(!fromclient.isEmpty()){\n",
    "           \n",
    "            args[i] = fromclient;\n",
    "            if(i==4){\n",
    "                  System.out.println(\"Done Recieving\");\n",
    "                  System.out.println(\"XSL: \" + args[0]);\n",
    "                  System.out.println(\"o: \" + args[1]);\n",
    "                  System.out.println(\"it: \" + args[2]);\n",
    "                  System.out.println(\"ODS_uri: \" + args[3]);\n",
    "                  System.out.println(\"Identification_uri: \" + args[4]);\n",
    "                  connected.close();\n",
    "                  Server.close();\n",
    "                  break;\n",
    "            }\n",
    "            i++;\n",
    "        }\n",
    "    }\n",
    "    System.out.println(\"Transformation started...this may take a while...\");\n",
    "    Transform.main(args);\n",
    "    System.out.println(\"Transformation done!\");\n",
    "    break;\n",
    "}\n",
    "\n"
   ]
  },
  {
   "cell_type": "code",
   "execution_count": null,
   "metadata": {},
   "outputs": [],
   "source": []
  }
 ],
 "metadata": {
  "kernelspec": {
   "display_name": "Java",
   "language": "java",
   "name": "java"
  },
  "language_info": {
   "codemirror_mode": "java",
   "file_extension": ".java",
   "mimetype": "text/x-java-source",
   "name": "Java",
   "pygments_lexer": "java",
   "version": "11.0.2+9-LTS"
  }
 },
 "nbformat": 4,
 "nbformat_minor": 2
}
