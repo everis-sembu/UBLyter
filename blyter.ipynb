{
 "cells": [
  {
   "cell_type": "markdown",
   "metadata": {},
   "source": [
    "# Welcome to UBLyter !"
   ]
  },
  {
   "cell_type": "markdown",
   "metadata": {},
   "source": [
    "_UBLyter_ is an [everis](https://www.everis.com/global/en) **SEMBU** environment for the generation of [OASIS UBL-2.x](http://docs.oasis-open.org/ubl/cs01-UBL-2.2/UBL-2.2.html) artefacts. The current version is UBLyter v0.1, which focuses on the production of one type of model (differently to the staged approach used in UBL for eProcurement, transport, etc. Thus no \"_stage_\" is used herein, but \"_model_\"). \n",
    "\n",
    "The status of the development is \"just started!\". Feel free to contribute by creating issues and commenting on the [Ublyter GitHub](https://github.com/everis-sembu/ublyter)."
   ]
  },
  {
   "cell_type": "markdown",
   "metadata": {},
   "source": [
    "## Edit the model"
   ]
  },
  {
   "cell_type": "markdown",
   "metadata": {},
   "source": [
    "* Download the [UBL-2.3 model](./mod/UBL-Pre-award-2.3.ods),\n",
    "\n",
    "* Modify the model (introduce the changes you need),\n",
    "\n",
    "* Upload it ([how to upload](http://everis-sembu.github.io/how-to-upload.html))"
   ]
  },
  {
   "cell_type": "markdown",
   "metadata": {},
   "source": [
    "## Configure the environement\n",
    "\n",
    "### Global variables\n",
    "\n",
    "The first time you execute blyter notebook you need to set some environment variables. You namely need to specify the metadata of the model and distribution package you want to generate. \n",
    "\n",
    "If that is the case, follows these steps:\n",
    "\n",
    "1. Download the configuration [spread-sheet](./conf/blyter.conf.ods),\n",
    "2. Edit the spread-sheet (in principle, only the tab \"distribution\", would be slight changes, such as the model name and version),\n",
    "3. Save the changes and upload the spread-sheet back to the blyter notebook `conf` folder ([how to upload](http://everis-sembu.github.io/how-to-upload.html)),\n",
    "4. Generate the configuration files by executing the code in the next cell. "
   ]
  },
  {
   "cell_type": "markdown",
   "metadata": {},
   "source": [
    "### Location of the `*.jar` files\n",
    "\n",
    "Jupyter-notebook needs to know where to locate the saxon and other java resources. There are several ways of doing this:\n",
    "\n",
    "1. From the Java code. However trying to modify the environment from the Java execution is complicated and prone to nasty effects. Nonetheless it is possible, see this thread for alternatives: https://stackoverflow.com/questions/318239/how-do-i-set-environment-variables-from-java; or\n",
    "2. From the OS environment configuration: e.g. in Linux you can set the variables in your `~/.profile` or your `~/.bashrc` files; or\n",
    "3. In the terminal you'll use to run the Jupyter notebook, before running Jupyter, key in: `export IJAVA_CLASSPATH=./lib/*.jar`."
   ]
  },
  {
   "cell_type": "code",
   "execution_count": 2,
   "metadata": {},
   "outputs": [
    {
     "name": "stdout",
     "output_type": "stream",
     "text": [
      "unzipping to: /home/enric/blyter/./conf/content.xml\n"
     ]
    }
   ],
   "source": [
    "import com.everis.sembu.blyter.Configuration;\n",
    "\n",
    "String [] argList = {\"-src:./conf/blyter.conf.ods\", \n",
    "                     \"-xsl:./conf/blyter.conf.gc.xsl\", \n",
    "                     \"-outDir:./conf\",\n",
    "                     \"-out:blyter.conf.gc\"};\n",
    "\n",
    "Configuration c = new Configuration(argList);\n",
    "c.createConfigurationFile();\n"
   ]
  },
  {
   "cell_type": "code",
   "execution_count": null,
   "metadata": {},
   "outputs": [],
   "source": []
  },
  {
   "cell_type": "code",
   "execution_count": null,
   "metadata": {},
   "outputs": [],
   "source": []
  }
 ],
 "metadata": {
  "kernelspec": {
   "display_name": "Java",
   "language": "java",
   "name": "java"
  },
  "language_info": {
   "codemirror_mode": "java",
   "file_extension": ".java",
   "mimetype": "text/x-java-source",
   "name": "Java",
   "pygments_lexer": "java",
   "version": "11.0.1+13-Ubuntu-3ubuntu3.18.10.1"
  }
 },
 "nbformat": 4,
 "nbformat_minor": 2
}
