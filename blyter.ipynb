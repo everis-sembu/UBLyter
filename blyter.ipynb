{
 "cells": [
  {
   "cell_type": "markdown",
   "metadata": {},
   "source": [
    "# Welcome to UBLyter !"
   ]
  },
  {
   "cell_type": "markdown",
   "metadata": {},
   "source": [
    "_UBLyter_ is an [everis](https://www.everis.com/global/en) **SEMBU** environment for the generation of [OASIS UBL-2.x](http://docs.oasis-open.org/ubl/cs01-UBL-2.2/UBL-2.2.html) artefacts. The current version is UBLyter v0.1, which focuses on the production of one type of model (differently to the staged approach used in UBL for eProcurement, transport, etc. Thus no \"_stage_\" is used herein, but \"_model_\"). \n",
    "\n",
    "The status of the development is \"just started!\". Feel free to contribute by creating issues and commenting on the [Ublyter GitHub](https://github.com/everis-sembu/ublyter)."
   ]
  },
  {
   "cell_type": "markdown",
   "metadata": {},
   "source": [
    "## Edit the model"
   ]
  },
  {
   "cell_type": "markdown",
   "metadata": {},
   "source": [
    "* Download the [UBL-2.3 model](./mod/UBL-Pre-award-2.3.ods),\n",
    "\n",
    "* Modify the model (introduce the changes you need),\n",
    "\n",
    "* Upload it ([how to upload](http://everis-sembu.github.io/how-to-upload.html))"
   ]
  },
  {
   "cell_type": "markdown",
   "metadata": {},
   "source": [
    "## Set the main distribution parameters"
   ]
  },
  {
   "cell_type": "code",
   "execution_count": 1,
   "metadata": {},
   "outputs": [],
   "source": [
    "String \n",
    "    modelName      = \"Pre-award\",\n",
    "    datetimelocal  = \"20190331-1500z\",\n",
    "    UBLversion     = \"2.3\", // The version of the UBL distribution this model is based on.\n",
    "    UBLprevVersion = \"2.2\", // The previous version of UBL. Backwards compatibility is checked.\n",
    "    ABIEextensions = \"yes\"; // Override this as \"no\" for UBL 2.2 and earlier."
   ]
  },
  {
   "cell_type": "markdown",
   "metadata": {},
   "source": [
    "## Environment configuration"
   ]
  },
  {
   "cell_type": "markdown",
   "metadata": {},
   "source": [
    "### Location of the `*.jar` files\n",
    "\n",
    "Jupyter-notebook needs to know where to locate the saxon and other java resources. There are several ways of doing this:\n",
    "\n",
    "1. From the Java code. However trying to modify the environment from the Java execution is complicated and prone to nasty effects. Nonetheless it is possible, see this thread for alternatives: https://stackoverflow.com/questions/318239/how-do-i-set-environment-variables-from-java; or\n",
    "2. From the OS environment configuration: e.g. in Linux you can set the variables in your `~/.profile` or your `~/.bashrc` files; or\n",
    "3. In the terminal you'll use to run the Jupyter notebook, before running Jupyter, key in: `export IJAVA_CLASSPATH=./lib/*.jar`."
   ]
  },
  {
   "cell_type": "markdown",
   "metadata": {},
   "source": [
    "### Cranesoftwright's tooling specification"
   ]
  },
  {
   "cell_type": "markdown",
   "metadata": {},
   "source": [
    "The core of the work during the generation of the UBL artefacts is done via XSL-T transformations. The stylesheets used for these transformations were produced by [Cranesoftwrights](https://www.cranesoftwrights.com/htdocs/) (Ken Holman).\n",
    "\n",
    "The following variables are used to identify which version of the Cranesoftwrights tools are being used for the transformations. These timestamps are also used in the names of the folders where these resources are located. See the content of the directory `./util`."
   ]
  },
  {
   "cell_type": "code",
   "execution_count": 2,
   "metadata": {},
   "outputs": [],
   "source": [
    "// Cranesoftwrights tooling timestamps. Could be moved onto a .properties file\n",
    "String \n",
    "    gc2obdndr = \"20190320-0140z\",\n",
    "    ods2obdgc = \"20180921-2010z\",\n",
    "    cvagcxsl  = \"20130416-0040z\",\n",
    "    cva2sch   = \"20130207-1940z\",\n",
    "    gc2odsxml = \"20170727-0220z\";"
   ]
  },
  {
   "cell_type": "markdown",
   "metadata": {},
   "source": [
    "### Skippers"
   ]
  },
  {
   "cell_type": "markdown",
   "metadata": {},
   "source": [
    "Transformations are costly. If a transformation has generated successfully its output there is no sense in wasting time re-executing that transformation once and again. \n",
    "\n",
    "The following variables can be used to skip successful transformations at debugging time. Set the \"*_Skip\" variable to `true` if you do not want a transformation to be executed. \n",
    "\n",
    "Beware that a full execution of the whole notebook requires that all the `*Skip` variables are set to `false`."
   ]
  },
  {
   "cell_type": "code",
   "execution_count": 3,
   "metadata": {},
   "outputs": [],
   "source": [
    "boolean rawCopy_Skip          = true; // Skips having to copy the raw directory files more than once.\n",
    "boolean ods2gc_Signature_Skip = true; // Skips the transformation of the Signature ODS model into its pivot GC file.\n",
    "boolean ods2gc_Entities_Skip  = true; // Skips the transformation of the UBL ccts model into its corresponding pivot GC file.   \n",
    "boolean ods2gc_Checks_Skip    = true; // Skips checking the backwards compatibility and the NDR compliance.\n",
    "boolean gc2ndr_Skip           = false;// Skips the generation of the XSDs.    "
   ]
  },
  {
   "cell_type": "markdown",
   "metadata": {},
   "source": [
    "### Global directory and file path names"
   ]
  },
  {
   "cell_type": "markdown",
   "metadata": {},
   "source": [
    "The following variables are used along the lifecycle of the execution to specify input and output directory and file names."
   ]
  },
  {
   "cell_type": "code",
   "execution_count": 4,
   "metadata": {},
   "outputs": [],
   "source": [
    "// Input folders and artefacts. All variables herein could be moved onto a .properties file.\n",
    "String inDir      = \"./input/\"; // The directory where pre-existing artefacts necessary are located.\n",
    "String inMod      = inDir + \"mod/\"; // Location of the model. In UBL models are maintained as spread-sheets!\n",
    "String inIdent    = inDir + \"ident/\"; // Metadata for the identification of the BIE(s), namespaces, UBLversion, etc.\n",
    "String inMassage  = inDir + \"massage/\"; // ODS tabs names need to be spanned.\n",
    "String inGCDir    = inDir + \"gc/\"; // Location of input gc files, e.g. previous version of the UBL-Entitites as gc files.\n",
    "// Common path names\n",
    "String utilDir                 = \"./util/\"; // Utilities directory: Cranesoftwright's XSL-T files.\n",
    "String lengthen_model_name_uri = inMassage + \"massageModelName-\" + UBLversion + \".xml\";\n",
    "String configDir               = \"./conf/\"; // The Model configuration file folder.\n",
    "String modelConfFile           = configDir + \"config-UBL-\" + UBLversion + \"-\" + modelName + \".xml\";\n",
    "String spellFile               = utilDir + \"wordlist-UBL-\" + UBLversion + \".txt\"; // To check the spelling of the words in the model.\n",
    "String UBLCommonLibrary        = \"UBL-CommonLibrary-\" + UBLversion;\n",
    "// Cranesoftwright's transformation stylesheet\n",
    "String ods2gcXSL  = utilDir + \"Crane-ods2obdgc-\" + ods2obdgc + \"/Crane-ods2obdgc.xsl\";\n",
    "String checkXSL   = utilDir + \"Crane-gc2obdndr-\" + gc2obdndr + \"/Crane-checkgc4obdndr.xsl\";\n",
    "String gc2ndrXSL  = utilDir + \"Crane-gc2obdndr-\" + gc2obdndr + \"/Crane-gc2obdndr.xsl\";\n",
    "// Output folders and artefacts\n",
    "String outDir     = \"./output/\"; // The directory where the newly generated artefacts are put.\n",
    "String outGCDir   = outDir + \"gc/\";\n",
    "String distDir    = outDir + modelName + \"-\" + UBLversion + \"/\"; // The directory where the distribution artefacts are put.\n",
    "String outHTMLDir = outDir + \"html/\";\n",
    "String outDBDir   = outDir + \"db/\"; // DocBook xml files directory\n",
    "String outJunkDir = outDir + \"tmp/\"; // Temporary trash;\n",
    "// Common path names\n",
    "String utilDir                 = \"./util/\"; // Utilities directory: Cranesoftwright's XSL-T files.\n",
    "String lengthen_model_name_uri = inMassage + \"massageModelName-\" + UBLversion + \".xml\";\n",
    "String configDir               = \"./conf/\"; // The Model configuration file folder.\n",
    "String modelConfFile           = configDir + \"config-UBL-\" + UBLversion + \"-\" + modelName + \".xml\";\n",
    "String spellFile               = utilDir + \"wordlist-UBL-\" + UBLversion + \".txt\"; // To check the spelling of the words in the model.\n",
    "String UBLCommonLibrary        = \"UBL-CommonLibrary-\" + UBLversion + \"-PREAWARD02\";"
   ]
  },
  {
   "cell_type": "code",
   "execution_count": 5,
   "metadata": {},
   "outputs": [
    {
     "name": "stdout",
     "output_type": "stream",
     "text": [
      "./util/Crane-gc2obdndr-20190320-0140z/Crane-gc2obdndr.xsl\n"
     ]
    }
   ],
   "source": [
    "System.out.println(gc2ndrXSL);"
   ]
  },
  {
   "cell_type": "markdown",
   "metadata": {},
   "source": [
    "## Raw files"
   ]
  },
  {
   "cell_type": "markdown",
   "metadata": {},
   "source": [
    "The UBL distribution is organised around a bunch of **constant** folders and files that are part of the data architecture, data validation, documentation, etc. There is no point in creating these from scratch every time, so they are copied from a kind of template (*raw*) directory into the target output directory.\n",
    "\n",
    "This implies that the \"raw\" folder, and its content, is necessary **before** the production of the XSD schemas. So make sure that the **_raw_** folder exists and contains the right original files. \n",
    "\n",
    "The next cells are used to:\n",
    "\n",
    "1. Specify where these \"raw\" folder and files are located, and\n",
    "2. Copy them in the target (output) directory."
   ]
  },
  {
   "cell_type": "code",
   "execution_count": 6,
   "metadata": {},
   "outputs": [],
   "source": [
    "String rawDir = inDir + \"raw\" + \"/\";"
   ]
  },
  {
   "cell_type": "code",
   "execution_count": 7,
   "metadata": {},
   "outputs": [],
   "source": [
    "import org.apache.commons.io.FileUtils;\n",
    "import java.io.File;\n",
    "import java.io.IOException;\n",
    "\n",
    "// Remember to set the skipper variable to false if you need to copy again the raw directory.\n",
    "if(!rawCopy_Skip){\n",
    "    try {\n",
    "        FileUtils.copyDirectory(new File(rawDir), new File(distDir));\n",
    "    } catch (IOException e) {\n",
    "        e.printStackTrace();\n",
    "    }\n",
    "}"
   ]
  },
  {
   "cell_type": "markdown",
   "metadata": {},
   "source": [
    "## Creation of the GeneriCode (GC) files"
   ]
  },
  {
   "cell_type": "markdown",
   "metadata": {},
   "source": [
    "[GeneriCode](http://docs.oasis-open.org/codelist/ns/genericode/1.0/) (GC) is an OASIS XML specification for the expression of tables. The OASIS UBL tooling uses GC as a **_pivot_** format that is used in several different ways, e.g. to check NDR and as the input for subsequent generation of W3C XSD schemas, [CVA](http://docs.oasis-open.org/codelist/cs01-ContextValueAssociation-1.0/doc/context-value-association.html) files, HTML reporting and other types of transformations."
   ]
  },
  {
   "cell_type": "markdown",
   "metadata": {},
   "source": [
    "### Configuration"
   ]
  },
  {
   "cell_type": "markdown",
   "metadata": {},
   "source": [
    "#### Common variables needed during the transformation"
   ]
  },
  {
   "cell_type": "code",
   "execution_count": 8,
   "metadata": {},
   "outputs": [],
   "source": [
    "// ODS tab names are short and need to be spanned conveniently\n",
    "String lengthen_model_name_uri  = inMassage + \"massageModelName-\" + UBLversion + \".xml\";\n",
    "// The XSL-T base directory is \"./util/Crane-ods2obdgc-20180921-2010z\" (whilst the jupyter notebook is \"./\") hence the ident file is in \"../../ident/\"\n",
    "String identification_from_util_folder = \"../../\" + inDir + \"ident/\"; \n",
    "// Common parameter for the path building\n",
    "String cit                      = \"-it:ods-uri\";"
   ]
  },
  {
   "cell_type": "markdown",
   "metadata": {},
   "source": [
    "### Generation of the GC files\n",
    "\n",
    "The method below launches the actual transformation of the ods model into the pivot Genericode file. Depending of your machine features, the jupyter notebook environment may need up to more than 15 minutes. So take it easy."
   ]
  },
  {
   "cell_type": "markdown",
   "metadata": {},
   "source": [
    "#### Reusable methods for the transformation"
   ]
  },
  {
   "cell_type": "code",
   "execution_count": 9,
   "metadata": {},
   "outputs": [],
   "source": [
    "import java.util.Calendar;\n",
    "import net.sf.saxon.Transform;\n",
    "import java.text.SimpleDateFormat;\n",
    "\n",
    "public void t(String[] argList){\n",
    "    Transform.main(argList);\n",
    "}\n",
    "\n",
    "public void showStartTime(){\n",
    "    Calendar cal = Calendar.getInstance();\n",
    "    SimpleDateFormat sdf = new SimpleDateFormat(\"HH:mm:ss\");        \n",
    "    System.out.println(\"Transformation started at: \" + sdf.format(cal.getTime()) + \" this may take some minutes...\");\n",
    "}\n",
    "public void showEndTime(){\n",
    "    Calendar cal = Calendar.getInstance();\n",
    "    SimpleDateFormat sdf = new SimpleDateFormat(\"HH:mm:ss\");        \n",
    "    System.out.println(\"Transformation ended at: \" + sdf.format(cal.getTime()));\n",
    "}"
   ]
  },
  {
   "cell_type": "markdown",
   "metadata": {},
   "source": [
    "#### Variables for the UBL signature components"
   ]
  },
  {
   "cell_type": "code",
   "execution_count": 10,
   "metadata": {},
   "outputs": [],
   "source": [
    "// Input files for the generation of the UBL signature components as a GC file\n",
    "\n",
    "String UBLsignatureSource              = inMod + \"UBL-Signature-\" + UBLversion + \".ods\";\n",
    "String UBLsignatureIdentification      = inIdent + \"ident-UBL-Signature-\"+ UBLversion + \"-\" + modelName + \".xml\";\n",
    "\n",
    "//UBL signature GC output file\n",
    "String UBLsignatureTarget = outGCDir + \"UBL-Signature-\" + UBLversion + \".gc\";\n",
    "\n",
    "// Parameters for the generation of the UBL signature components\n",
    "String UBLsignatureXSL       = \"-xsl:\" + ods2gcXSL;\n",
    "String UBLsignatureO         = \"-o:\" + UBLsignatureTarget;\n",
    "String UBLsignatureODS_uri   = \"ods-uri=\" + UBLsignatureSource;\n",
    "String UBLsignatureIdent_uri = \"identification-uri=\" + identification_from_util_folder + \"ident-UBL-Signature-\"+ UBLversion + \"-\" + modelName + \".xml\";"
   ]
  },
  {
   "cell_type": "markdown",
   "metadata": {},
   "source": [
    "#### Check whether the input files exist"
   ]
  },
  {
   "cell_type": "code",
   "execution_count": 11,
   "metadata": {},
   "outputs": [],
   "source": [
    "if(!new File(ods2gcXSL).exists()) System.err.println(\"File \" + ods2gcXSL + \" was not located.\");\n",
    "if(!new File(UBLsignatureSource).exists()) System.err.println(\"File \" + UBLsignatureSource + \" was not located in folder \" + inMod);\n",
    "if(!new File(UBLsignatureIdentification).exists()) System.err.println(\"File \" + UBLsignatureIdentification + \" was not located in folder \" + inIdent);"
   ]
  },
  {
   "cell_type": "markdown",
   "metadata": {},
   "source": [
    "#### Launch the transformation of the UBL signature components"
   ]
  },
  {
   "cell_type": "code",
   "execution_count": 12,
   "metadata": {},
   "outputs": [],
   "source": [
    "// Remember to set the skipper variable to `false` if you want this code to be executed!\n",
    "if (!ods2gc_Signature_Skip){\n",
    "    showStartTime();\n",
    "    String[] argsLine = {ods2gcXSL, UBLsignatureO, cit, UBLsignatureODS_uri, UBLsignatureIdent_uri};\n",
    "    t(argsLine);\n",
    "    showEndTime();\n",
    "}"
   ]
  },
  {
   "cell_type": "markdown",
   "metadata": {},
   "source": [
    "#### Variables for the UBL library components "
   ]
  },
  {
   "cell_type": "code",
   "execution_count": 13,
   "metadata": {},
   "outputs": [],
   "source": [
    "// Input files for the generation of the UBL ccts-based entities as a GC file\n",
    "String UBLentitiesSource1              = inMod + \"UBL-Library-\" + UBLversion + \".ods\";\n",
    "String UBLentitiesSource2              = inMod + \"UBL-Documents-\" + UBLversion + \".ods\";\n",
    "String UBLentitiesIdentification       = inIdent + \"ident-UBL-\"+ UBLversion + \"-\" + modelName + \".xml\";\n",
    "\n",
    "//UBL entities GC output file\n",
    "String UBLentitiesTarget  = outGCDir + \"UBL-Entities-\" + UBLversion + \".gc\";\n",
    "\n",
    "// Parameters for the generation of the UBL entities:\n",
    "String UBLentitiesO         = \"-o:\" + UBLentitiesTarget;\n",
    "String UBLentitiesODS_uri   = \"ods-uri=\" + UBLentitiesSource1 + \",\" + UBLentitiesSource2;\n",
    "String UBLentitiesIdent_uri = \"identification-uri=\" + identification_from_util_folder + \"ident-UBL-\"+ UBLversion + \"-\" + modelName + \".xml\";\n"
   ]
  },
  {
   "cell_type": "markdown",
   "metadata": {},
   "source": [
    "#### Check whether the input files exist"
   ]
  },
  {
   "cell_type": "code",
   "execution_count": 14,
   "metadata": {},
   "outputs": [],
   "source": [
    "if(!new File(UBLentitiesSource1).exists()) System.err.println(\"File \" + UBLentitiesSource1 + \" was not located in folder \" + inMod);\n",
    "if(!new File(UBLentitiesSource2).exists()) System.err.println(\"File \" + UBLentitiesSource2 + \" was not located in folder \" + inMod);\n",
    "if(!new File(UBLentitiesIdentification).exists()) System.err.println(\"File \" + UBLentitiesIdentification + \" was not located in folder \" + inIdent);\n",
    "if(!new File(lengthen_model_name_uri).exists()) System.err.println(\"File \" + lengthen_model_name_uri + \" was not located in folder \" + inMassage);"
   ]
  },
  {
   "cell_type": "markdown",
   "metadata": {},
   "source": [
    "#### Launch the transformation into a GC file"
   ]
  },
  {
   "cell_type": "code",
   "execution_count": 15,
   "metadata": {},
   "outputs": [],
   "source": [
    "// Remember to set the skipper variable to `false` if you want this code to be executed!\n",
    "if (!ods2gc_Signature_Skip){\n",
    "    showStartTime();\n",
    "    String[] argsLine = {ods2gcXSL, UBLentitiesO, cit, UBLentitiesODS_uri, UBLentitiesIdent_uri};\n",
    "    t(argsLine);\n",
    "    showEndTime();\n",
    "}"
   ]
  },
  {
   "cell_type": "markdown",
   "metadata": {},
   "source": [
    "## Generation of the XSD Schemas"
   ]
  },
  {
   "cell_type": "markdown",
   "metadata": {},
   "source": [
    "The generation of the XSD Schemas starts here. It takes as inputs the UBL entities and signature GC files generated in the previous steps.\n",
    "\n",
    "This phase is divided into several steps:\n",
    "\n",
    "1. Before launching the creation of the XSD schemas, a comparison between the previous and the current UBL versions is performed to check the backwards compatibility;\n",
    "2. A strong validation of the model against the OASIS UBL Naming and Design Rules ([NDR](http://docs.oasis-open.org/ubl/Business-Document-NDR/v1.0/Business-Document-NDR-v1.0.html)) -now in the GC files-, is performed;\n",
    "3. An [HTML report]() is created containing the results of the two previous steps;\n",
    "4. The creation of the XSD schemas is launched.\n"
   ]
  },
  {
   "cell_type": "markdown",
   "metadata": {},
   "source": [
    "### Backwards compatibility and NDR conformance checks"
   ]
  },
  {
   "cell_type": "markdown",
   "metadata": {},
   "source": [
    "#### Setting the parameters for the transformation"
   ]
  },
  {
   "cell_type": "code",
   "execution_count": 16,
   "metadata": {},
   "outputs": [],
   "source": [
    "// Input and output files.\n",
    "String checkSrc                 = UBLentitiesTarget; // PIPELINE: The output of the previous phase is the input of this phase! \n",
    "String checkOldURI              = inGCDir + \"UBL-Entities-\" + UBLprevVersion + \".gc\";\n",
    "String checkDBCmnURI            = outDBDir + \"old2newDocBook-UBL-\" + UBLversion + \"-\" + modelName + \"-UBL-\" + UBLprevVersion + \"-library.xml\";\n",
    "String checkDBMainURI           = outDBDir + \"old2newDocBook-UBL-\" + UBLversion + \"-\" + modelName + \"-UBL-\" + UBLprevVersion + \"-documents.xml\";\n",
    "String checkgc4obdndrReport     = outHTMLDir + \"check-ubl-\" + UBLversion + \"-ubl-\" + UBLprevVersion + \".html\";\n",
    "String checkgc4obdndrAllReports = outHTMLDir + \"All-UBL-\" + UBLversion + \"-Documents.html\";\n",
    "String checkgc4obdndrConfFile   = \"../../\" + modelConfFile;\n",
    "// Parameters for the transformation.\n",
    "String checkgc4obdndrXSL        = \"-xsl:\" + checkXSL;\n",
    "String checkgc4obdndrO          = \"-o:\" + checkgc4obdndrReport;\n",
    "String checkgc4obdndrSource     = \"-s:\" + checkSrc;\n",
    "String checkgc4obdndrConfig_uri = \"config-uri=\" + checkgc4obdndrConfFile;\n",
    "String checkgc4obdndrTitle      = \"title-suffix=\" + \"Universal Business Language (UBL) \"+ UBLversion + \" \" + modelName + \" to \" + UBLprevVersion;\n",
    "String checkgc4obdndrChange     = \"change-suffix=\" + \"UBL\";\n",
    "String checkgc4obdndrCompare    = \"old-uri=\" + checkOldURI;\n",
    "String checkgc4obdndrCmnURI     = \"docbook-common-uri=\" + checkDBCmnURI;\n",
    "String checkgc4obdndrMainURI    = \"docbook-maindoc-uri=\" + checkDBMainURI;\n",
    "String checkgc4obdndrDBHRef     = \"all-documents-report-href=\" + checkgc4obdndrAllReports;\n",
    "String checkgc4obdndrWords      = \"den-word-list-uri=\" + spellFile;\n",
    "String checkgc4obdndrUBLlibName = \"common-library-singleton-model-name=\" + UBLCommonLibrary;\n",
    "String checkgc4obdndrCurVersion = \"version-column-name=CurrentVersion\";\n",
    "String checkgc4obdndrSuprXMLns  = \"--suppressXsltNamespaceCheck:on\";"
   ]
  },
  {
   "cell_type": "markdown",
   "metadata": {},
   "source": [
    "#### Check input files"
   ]
  },
  {
   "cell_type": "code",
   "execution_count": 18,
   "metadata": {},
   "outputs": [],
   "source": [
    "if(!new File(modelConfFile).exists()) System.err.println(\"File \" + modelConfFile + \" was not located.\");\n",
    "if(!new File(checkXSL).exists()) System.err.println(\"File \" + checkXSL + \" was not located.\");\n",
    "if(!new File(checkSrc).exists()) System.err.println(\"File \" + checkSrc + \" was not located.\");\n",
    "if(!new File(checkOldURI).exists()) System.err.println(\"File \" + checkOldURI + \" was not located.\");"
   ]
  },
  {
   "cell_type": "markdown",
   "metadata": {},
   "source": [
    "#### Launch the checks (backwards compatibility and NDR compliance)"
   ]
  },
  {
   "cell_type": "code",
   "execution_count": 19,
   "metadata": {},
   "outputs": [],
   "source": [
    "import java.text.SimpleDateFormat;\n",
    "import java.util.Calendar;\n",
    "\n",
    "// Remember to set the skipper variable to `false` if you want this code to be executed!\n",
    "if (!ods2gc_Checks_Skip){\n",
    "    Calendar cal = Calendar.getInstance();\n",
    "    SimpleDateFormat sdf = new SimpleDateFormat(\"HH:mm:ss\");        \n",
    "    System.out.println(\"Transformation started at: \" + sdf.format(cal.getTime()) + \" this may take some minutes...\");\n",
    "    \n",
    "    String[] argList = {\n",
    "            checkgc4obdndrXSL, \n",
    "            checkgc4obdndrSource,\n",
    "            checkgc4obdndrO, \n",
    "            checkgc4obdndrConfig_uri, \n",
    "            checkgc4obdndrTitle, \n",
    "            checkgc4obdndrChange,\n",
    "            checkgc4obdndrCompare, \n",
    "            checkgc4obdndrCmnURI,\n",
    "            checkgc4obdndrMainURI,\n",
    "            checkgc4obdndrDBHRef,\n",
    "            checkgc4obdndrWords,\n",
    "            checkgc4obdndrUBLlibName,\n",
    "            checkgc4obdndrCurVersion,\n",
    "            checkgc4obdndrSuprXMLns};\n",
    "    \n",
    "    t(argList); // See reusable Transform methods above.\n",
    "            \n",
    "    cal = Calendar.getInstance();\n",
    "    System.out.println(\"Transformation ended at: \" + sdf.format(cal.getTime()));\n",
    "}"
   ]
  },
  {
   "cell_type": "markdown",
   "metadata": {},
   "source": [
    "### XSD Generation"
   ]
  },
  {
   "cell_type": "markdown",
   "metadata": {},
   "source": [
    "#### Setting the parameters for the transformation"
   ]
  },
  {
   "cell_type": "code",
   "execution_count": 20,
   "metadata": {},
   "outputs": [],
   "source": [
    "// Input and output files.\n",
    "String gc2ndrSrc                = UBLentitiesTarget; // PIPELINE: The output of the previous phase is the input of this phase! \n",
    "String gc2ndrJunk               = outJunkDir + modelName + \"-\" + UBLversion + \"-junk.out\";\n",
    "String gc2ndrConfFile           = \"../../\" + modelConfFile; // XSL has a different execution base directory than jupyter.\n",
    "String gc2ndrErrorsAreFatal     = \"yes\";\n",
    "\n",
    "// Parameters for the transformation.\n",
    "String gc2ndrParXSL             = \"-xsl:\" + gc2ndrXSL;\n",
    "String gc2ndrSource             = \"-s:\" + gc2ndrSrc;\n",
    "String gc2ndrO                  = \"-o:\" + gc2ndrJunk;\n",
    "String gc2ndrConfig_uri         = \"config-uri=\" + gc2ndrConfFile;\n",
    "String gc2ndrErrorBehaviour     = \"errors-are-fatal=\" + gc2ndrErrorsAreFatal;  \n",
    "String gc2ndrSuprXMLns          = \"--suppressXsltNamespaceCheck:on\";\n",
    "String gc2ndrABIEext            = \"extensions-for-abies=\" + ABIEextensions;"
   ]
  },
  {
   "cell_type": "markdown",
   "metadata": {},
   "source": [
    "#### Check input files"
   ]
  },
  {
   "cell_type": "code",
   "execution_count": 22,
   "metadata": {},
   "outputs": [],
   "source": [
    "if(!new File(gc2ndrXSL).exists()) System.err.println(\"File \" + gc2ndrXSL + \" was not located.\");\n",
    "if(!new File(gc2ndrSrc).exists()) System.err.println(\"File \" + gc2ndrSrc + \" was not located.\");\n",
    "if(!new File(modelConfFile).exists()) System.err.println(\"File \" + modelConfFile + \" was not located.\");"
   ]
  },
  {
   "cell_type": "markdown",
   "metadata": {},
   "source": [
    "#### Launch the generation of XSDs"
   ]
  },
  {
   "cell_type": "code",
   "execution_count": 24,
   "metadata": {},
   "outputs": [
    {
     "name": "stdout",
     "output_type": "stream",
     "text": [
      "Transformation started at: 20:12:55 this may take some minutes...\n"
     ]
    },
    {
     "name": "stderr",
     "output_type": "stream",
     "text": [
      "Creating cva/UBL-DefaultDTQ-2.3-Pre-award.cva ...\n",
      "Creating xsd/maindoc/UBL-ApplicationResponse-2.3-Pre-award.xsd ...\n",
      "Creating xsd/maindoc/UBL-AttachedDocument-2.3-Pre-award.xsd ...\n",
      "Creating xsd/maindoc/UBL-AwardedNotification-2.3-Pre-award.xsd ...\n",
      "Creating xsd/maindoc/UBL-BillOfLading-2.3-Pre-award.xsd ...\n",
      "Creating xsd/maindoc/UBL-BusinessCard-2.3-Pre-award.xsd ...\n",
      "Creating xsd/maindoc/UBL-CallForTenders-2.3-Pre-award.xsd ...\n",
      "Creating xsd/maindoc/UBL-Catalogue-2.3-Pre-award.xsd ...\n",
      "Creating xsd/maindoc/UBL-CatalogueDeletion-2.3-Pre-award.xsd ...\n",
      "Creating xsd/maindoc/UBL-CatalogueItemSpecificationUpdate-2.3-Pre-award.xsd ...\n",
      "Creating xsd/maindoc/UBL-CataloguePricingUpdate-2.3-Pre-award.xsd ...\n",
      "Creating xsd/maindoc/UBL-CatalogueRequest-2.3-Pre-award.xsd ...\n",
      "Creating xsd/maindoc/UBL-CertificateOfOrigin-2.3-Pre-award.xsd ...\n",
      "Creating xsd/maindoc/UBL-ContractAwardNotice-2.3-Pre-award.xsd ...\n",
      "Creating xsd/maindoc/UBL-CreditNote-2.3-Pre-award.xsd ...\n",
      "Creating xsd/maindoc/UBL-ContractNotice-2.3-Pre-award.xsd ...\n",
      "Creating xsd/maindoc/UBL-DebitNote-2.3-Pre-award.xsd ...\n",
      "Creating xsd/maindoc/UBL-DespatchAdvice-2.3-Pre-award.xsd ...\n",
      "Creating xsd/maindoc/UBL-DigitalAgreement-2.3-Pre-award.xsd ...\n",
      "Creating xsd/maindoc/UBL-DigitalCapability-2.3-Pre-award.xsd ...\n",
      "Creating xsd/maindoc/UBL-DocumentStatus-2.3-Pre-award.xsd ...\n",
      "Creating xsd/maindoc/UBL-DocumentStatusRequest-2.3-Pre-award.xsd ...\n",
      "Creating xsd/maindoc/UBL-Enquiry-2.3-Pre-award.xsd ...\n",
      "Creating xsd/maindoc/UBL-EnquiryResponse-2.3-Pre-award.xsd ...\n",
      "Creating xsd/maindoc/UBL-ExceptionCriteria-2.3-Pre-award.xsd ...\n",
      "Creating xsd/maindoc/UBL-ExceptionNotification-2.3-Pre-award.xsd ...\n",
      "Creating xsd/maindoc/UBL-ExpressionOfInterestRequest-2.3-Pre-award.xsd ...\n",
      "Creating xsd/maindoc/UBL-ExpressionOfInterestResponse-2.3-Pre-award.xsd ...\n",
      "Creating xsd/maindoc/UBL-Forecast-2.3-Pre-award.xsd ...\n",
      "Creating xsd/maindoc/UBL-ForecastRevision-2.3-Pre-award.xsd ...\n",
      "Creating xsd/maindoc/UBL-ForwardingInstructions-2.3-Pre-award.xsd ...\n",
      "Creating xsd/maindoc/UBL-FreightInvoice-2.3-Pre-award.xsd ...\n",
      "Creating xsd/maindoc/UBL-FulfilmentCancellation-2.3-Pre-award.xsd ...\n",
      "Creating xsd/maindoc/UBL-GoodsItemItinerary-2.3-Pre-award.xsd ...\n",
      "Creating xsd/maindoc/UBL-GuaranteeCertificate-2.3-Pre-award.xsd ...\n",
      "Creating xsd/maindoc/UBL-InstructionForReturns-2.3-Pre-award.xsd ...\n",
      "Creating xsd/maindoc/UBL-InventoryReport-2.3-Pre-award.xsd ...\n",
      "Creating xsd/maindoc/UBL-Invoice-2.3-Pre-award.xsd ...\n",
      "Creating xsd/maindoc/UBL-ItemInformationRequest-2.3-Pre-award.xsd ...\n",
      "Creating xsd/maindoc/UBL-Order-2.3-Pre-award.xsd ...\n",
      "Creating xsd/maindoc/UBL-OrderCancellation-2.3-Pre-award.xsd ...\n",
      "Creating xsd/maindoc/UBL-OrderChange-2.3-Pre-award.xsd ...\n",
      "Creating xsd/maindoc/UBL-OrderResponse-2.3-Pre-award.xsd ...\n",
      "Creating xsd/maindoc/UBL-OrderResponseSimple-2.3-Pre-award.xsd ...\n",
      "Creating xsd/maindoc/UBL-PackingList-2.3-Pre-award.xsd ...\n",
      "Creating xsd/maindoc/UBL-PriorInformationNotice-2.3-Pre-award.xsd ...\n",
      "Creating xsd/maindoc/UBL-ProductActivity-2.3-Pre-award.xsd ...\n",
      "Creating xsd/maindoc/UBL-QualificationApplicationRequest-2.3-Pre-award.xsd ...\n",
      "Creating xsd/maindoc/UBL-QualificationApplicationResponse-2.3-Pre-award.xsd ...\n",
      "Creating xsd/maindoc/UBL-Quotation-2.3-Pre-award.xsd ...\n",
      "Creating xsd/maindoc/UBL-ReceiptAdvice-2.3-Pre-award.xsd ...\n",
      "Creating xsd/maindoc/UBL-Reminder-2.3-Pre-award.xsd ...\n",
      "Creating xsd/maindoc/UBL-RemittanceAdvice-2.3-Pre-award.xsd ...\n",
      "Creating xsd/maindoc/UBL-RequestForQuotation-2.3-Pre-award.xsd ...\n",
      "Creating xsd/maindoc/UBL-RetailEvent-2.3-Pre-award.xsd ...\n",
      "Creating xsd/maindoc/UBL-SelfBilledCreditNote-2.3-Pre-award.xsd ...\n",
      "Creating xsd/maindoc/UBL-SelfBilledInvoice-2.3-Pre-award.xsd ...\n",
      "Creating xsd/maindoc/UBL-Statement-2.3-Pre-award.xsd ...\n",
      "Creating xsd/maindoc/UBL-StockAvailabilityReport-2.3-Pre-award.xsd ...\n",
      "Creating xsd/maindoc/UBL-Tender-2.3-Pre-award.xsd ...\n",
      "Creating xsd/maindoc/UBL-TenderContract-2.3-Pre-award.xsd ...\n",
      "Creating xsd/maindoc/UBL-TenderReceipt-2.3-Pre-award.xsd ...\n",
      "Creating xsd/maindoc/UBL-TenderStatus-2.3-Pre-award.xsd ...\n",
      "Creating xsd/maindoc/UBL-TenderStatusRequest-2.3-Pre-award.xsd ...\n",
      "Creating xsd/maindoc/UBL-TenderWithdrawal-2.3-Pre-award.xsd ...\n",
      "Creating xsd/maindoc/UBL-TendererQualification-2.3-Pre-award.xsd ...\n",
      "Creating xsd/maindoc/UBL-TendererQualificationResponse-2.3-Pre-award.xsd ...\n",
      "Creating xsd/maindoc/UBL-TradeItemLocationProfile-2.3-Pre-award.xsd ...\n",
      "Creating xsd/maindoc/UBL-TransportExecutionPlan-2.3-Pre-award.xsd ...\n",
      "Creating xsd/maindoc/UBL-TransportExecutionPlanRequest-2.3-Pre-award.xsd ...\n",
      "Creating xsd/maindoc/UBL-TransportProgressStatus-2.3-Pre-award.xsd ...\n",
      "Creating xsd/maindoc/UBL-TransportProgressStatusRequest-2.3-Pre-award.xsd ...\n",
      "Creating xsd/maindoc/UBL-TransportServiceDescription-2.3-Pre-award.xsd ...\n",
      "Creating xsd/maindoc/UBL-TransportServiceDescriptionRequest-2.3-Pre-award.xsd ...\n",
      "Creating xsd/maindoc/UBL-TransportationStatus-2.3-Pre-award.xsd ...\n",
      "Creating xsd/maindoc/UBL-TransportationStatusRequest-2.3-Pre-award.xsd ...\n",
      "Creating xsd/maindoc/UBL-UnawardedNotification-2.3-Pre-award.xsd ...\n",
      "Creating xsd/maindoc/UBL-UnsubscribeFromProcedureRequest-2.3-Pre-award.xsd ...\n",
      "Creating xsd/maindoc/UBL-UnsubscribeFromProcedureResponse-2.3-Pre-award.xsd ...\n",
      "Creating xsd/maindoc/UBL-UtilityStatement-2.3-Pre-award.xsd ...\n",
      "Creating xsd/maindoc/UBL-Waybill-2.3-Pre-award.xsd ...\n",
      "Creating xsd/maindoc/UBL-WeightStatement-2.3-Pre-award.xsd ...\n",
      "Creating json-schema/maindoc/UBL-ApplicationResponse-2.3-Pre-award.json ...\n",
      "Creating json-schema/maindoc/UBL-AttachedDocument-2.3-Pre-award.json ...\n",
      "Creating json-schema/maindoc/UBL-AwardedNotification-2.3-Pre-award.json ...\n",
      "Creating json-schema/maindoc/UBL-BillOfLading-2.3-Pre-award.json ...\n",
      "Creating json-schema/maindoc/UBL-BusinessCard-2.3-Pre-award.json ...\n",
      "Creating json-schema/maindoc/UBL-CallForTenders-2.3-Pre-award.json ...\n",
      "Creating json-schema/maindoc/UBL-Catalogue-2.3-Pre-award.json ...\n",
      "Creating json-schema/maindoc/UBL-CatalogueDeletion-2.3-Pre-award.json ...\n",
      "Creating json-schema/maindoc/UBL-CatalogueItemSpecificationUpdate-2.3-Pre-award.json ...\n",
      "Creating json-schema/maindoc/UBL-CataloguePricingUpdate-2.3-Pre-award.json ...\n",
      "Creating json-schema/maindoc/UBL-CatalogueRequest-2.3-Pre-award.json ...\n",
      "Creating json-schema/maindoc/UBL-CertificateOfOrigin-2.3-Pre-award.json ...\n",
      "Creating json-schema/maindoc/UBL-ContractAwardNotice-2.3-Pre-award.json ...\n",
      "Creating json-schema/maindoc/UBL-CreditNote-2.3-Pre-award.json ...\n",
      "Creating json-schema/maindoc/UBL-ContractNotice-2.3-Pre-award.json ...\n",
      "Creating json-schema/maindoc/UBL-DebitNote-2.3-Pre-award.json ...\n",
      "Creating json-schema/maindoc/UBL-DespatchAdvice-2.3-Pre-award.json ...\n",
      "Creating json-schema/maindoc/UBL-DigitalAgreement-2.3-Pre-award.json ...\n",
      "Creating json-schema/maindoc/UBL-DigitalCapability-2.3-Pre-award.json ...\n",
      "Creating json-schema/maindoc/UBL-DocumentStatus-2.3-Pre-award.json ...\n",
      "Creating json-schema/maindoc/UBL-DocumentStatusRequest-2.3-Pre-award.json ...\n",
      "Creating json-schema/maindoc/UBL-Enquiry-2.3-Pre-award.json ...\n",
      "Creating json-schema/maindoc/UBL-EnquiryResponse-2.3-Pre-award.json ...\n",
      "Creating json-schema/maindoc/UBL-ExceptionCriteria-2.3-Pre-award.json ...\n",
      "Creating json-schema/maindoc/UBL-ExceptionNotification-2.3-Pre-award.json ...\n",
      "Creating json-schema/maindoc/UBL-ExpressionOfInterestRequest-2.3-Pre-award.json ...\n",
      "Creating json-schema/maindoc/UBL-ExpressionOfInterestResponse-2.3-Pre-award.json ...\n",
      "Creating json-schema/maindoc/UBL-Forecast-2.3-Pre-award.json ...\n",
      "Creating json-schema/maindoc/UBL-ForecastRevision-2.3-Pre-award.json ...\n",
      "Creating json-schema/maindoc/UBL-ForwardingInstructions-2.3-Pre-award.json ...\n",
      "Creating json-schema/maindoc/UBL-FreightInvoice-2.3-Pre-award.json ...\n",
      "Creating json-schema/maindoc/UBL-FulfilmentCancellation-2.3-Pre-award.json ...\n",
      "Creating json-schema/maindoc/UBL-GoodsItemItinerary-2.3-Pre-award.json ...\n",
      "Creating json-schema/maindoc/UBL-GuaranteeCertificate-2.3-Pre-award.json ...\n",
      "Creating json-schema/maindoc/UBL-InstructionForReturns-2.3-Pre-award.json ...\n",
      "Creating json-schema/maindoc/UBL-InventoryReport-2.3-Pre-award.json ...\n",
      "Creating json-schema/maindoc/UBL-Invoice-2.3-Pre-award.json ...\n",
      "Creating json-schema/maindoc/UBL-ItemInformationRequest-2.3-Pre-award.json ...\n"
     ]
    },
    {
     "name": "stderr",
     "output_type": "stream",
     "text": [
      "Creating json-schema/maindoc/UBL-Order-2.3-Pre-award.json ...\n",
      "Creating json-schema/maindoc/UBL-OrderCancellation-2.3-Pre-award.json ...\n",
      "Creating json-schema/maindoc/UBL-OrderChange-2.3-Pre-award.json ...\n",
      "Creating json-schema/maindoc/UBL-OrderResponse-2.3-Pre-award.json ...\n",
      "Creating json-schema/maindoc/UBL-OrderResponseSimple-2.3-Pre-award.json ...\n",
      "Creating json-schema/maindoc/UBL-PackingList-2.3-Pre-award.json ...\n",
      "Creating json-schema/maindoc/UBL-PriorInformationNotice-2.3-Pre-award.json ...\n",
      "Creating json-schema/maindoc/UBL-ProductActivity-2.3-Pre-award.json ...\n",
      "Creating json-schema/maindoc/UBL-QualificationApplicationRequest-2.3-Pre-award.json ...\n",
      "Creating json-schema/maindoc/UBL-QualificationApplicationResponse-2.3-Pre-award.json ...\n",
      "Creating json-schema/maindoc/UBL-Quotation-2.3-Pre-award.json ...\n",
      "Creating json-schema/maindoc/UBL-ReceiptAdvice-2.3-Pre-award.json ...\n",
      "Creating json-schema/maindoc/UBL-Reminder-2.3-Pre-award.json ...\n",
      "Creating json-schema/maindoc/UBL-RemittanceAdvice-2.3-Pre-award.json ...\n",
      "Creating json-schema/maindoc/UBL-RequestForQuotation-2.3-Pre-award.json ...\n",
      "Creating json-schema/maindoc/UBL-RetailEvent-2.3-Pre-award.json ...\n",
      "Creating json-schema/maindoc/UBL-SelfBilledCreditNote-2.3-Pre-award.json ...\n",
      "Creating json-schema/maindoc/UBL-SelfBilledInvoice-2.3-Pre-award.json ...\n",
      "Creating json-schema/maindoc/UBL-Statement-2.3-Pre-award.json ...\n",
      "Creating json-schema/maindoc/UBL-StockAvailabilityReport-2.3-Pre-award.json ...\n",
      "Creating json-schema/maindoc/UBL-Tender-2.3-Pre-award.json ...\n",
      "Creating json-schema/maindoc/UBL-TenderContract-2.3-Pre-award.json ...\n",
      "Creating json-schema/maindoc/UBL-TenderReceipt-2.3-Pre-award.json ...\n",
      "Creating json-schema/maindoc/UBL-TenderStatus-2.3-Pre-award.json ...\n",
      "Creating json-schema/maindoc/UBL-TenderStatusRequest-2.3-Pre-award.json ...\n",
      "Creating json-schema/maindoc/UBL-TenderWithdrawal-2.3-Pre-award.json ...\n",
      "Creating json-schema/maindoc/UBL-TendererQualification-2.3-Pre-award.json ...\n",
      "Creating json-schema/maindoc/UBL-TendererQualificationResponse-2.3-Pre-award.json ...\n",
      "Creating json-schema/maindoc/UBL-TradeItemLocationProfile-2.3-Pre-award.json ...\n",
      "Creating json-schema/maindoc/UBL-TransportExecutionPlan-2.3-Pre-award.json ...\n",
      "Creating json-schema/maindoc/UBL-TransportExecutionPlanRequest-2.3-Pre-award.json ...\n",
      "Creating json-schema/maindoc/UBL-TransportProgressStatus-2.3-Pre-award.json ...\n",
      "Creating json-schema/maindoc/UBL-TransportProgressStatusRequest-2.3-Pre-award.json ...\n",
      "Creating json-schema/maindoc/UBL-TransportServiceDescription-2.3-Pre-award.json ...\n",
      "Creating json-schema/maindoc/UBL-TransportServiceDescriptionRequest-2.3-Pre-award.json ...\n",
      "Creating json-schema/maindoc/UBL-TransportationStatus-2.3-Pre-award.json ...\n",
      "Creating json-schema/maindoc/UBL-TransportationStatusRequest-2.3-Pre-award.json ...\n",
      "Creating json-schema/maindoc/UBL-UnawardedNotification-2.3-Pre-award.json ...\n",
      "Creating json-schema/maindoc/UBL-UnsubscribeFromProcedureRequest-2.3-Pre-award.json ...\n",
      "Creating json-schema/maindoc/UBL-UnsubscribeFromProcedureResponse-2.3-Pre-award.json ...\n",
      "Creating json-schema/maindoc/UBL-UtilityStatement-2.3-Pre-award.json ...\n",
      "Creating json-schema/maindoc/UBL-Waybill-2.3-Pre-award.json ...\n",
      "Creating json-schema/maindoc/UBL-WeightStatement-2.3-Pre-award.json ...\n",
      "Creating xsd/common/UBL-CommonAggregateComponents-2.3-Pre-award.xsd ...\n",
      "Creating json-schema/common/UBL-CommonAggregateComponents-2.3-Pre-award.json ...\n",
      "Creating xsd/common/UBL-CommonBasicComponents-2.3-Pre-award.xsd ...\n",
      "Creating json-schema/common/UBL-CommonBasicComponents-2.3-Pre-award.json ...\n",
      "Creating xsd/common/UBL-QualifiedDataTypes-2.3-Pre-award.xsd ...\n",
      "Creating json-schema/common/UBL-QualifiedDataTypes-2.3-Pre-award.json ...\n",
      "Creating xsdrt/maindoc/UBL-ApplicationResponse-2.3-Pre-award.xsd ...\n",
      "Creating xsdrt/maindoc/UBL-AttachedDocument-2.3-Pre-award.xsd ...\n",
      "Creating xsdrt/maindoc/UBL-AwardedNotification-2.3-Pre-award.xsd ...\n",
      "Creating xsdrt/maindoc/UBL-BillOfLading-2.3-Pre-award.xsd ...\n",
      "Creating xsdrt/maindoc/UBL-BusinessCard-2.3-Pre-award.xsd ...\n",
      "Creating xsdrt/maindoc/UBL-CallForTenders-2.3-Pre-award.xsd ...\n",
      "Creating xsdrt/maindoc/UBL-Catalogue-2.3-Pre-award.xsd ...\n",
      "Creating xsdrt/maindoc/UBL-CatalogueDeletion-2.3-Pre-award.xsd ...\n",
      "Creating xsdrt/maindoc/UBL-CatalogueItemSpecificationUpdate-2.3-Pre-award.xsd ...\n",
      "Creating xsdrt/maindoc/UBL-CataloguePricingUpdate-2.3-Pre-award.xsd ...\n",
      "Creating xsdrt/maindoc/UBL-CatalogueRequest-2.3-Pre-award.xsd ...\n",
      "Creating xsdrt/maindoc/UBL-CertificateOfOrigin-2.3-Pre-award.xsd ...\n",
      "Creating xsdrt/maindoc/UBL-ContractAwardNotice-2.3-Pre-award.xsd ...\n",
      "Creating xsdrt/maindoc/UBL-CreditNote-2.3-Pre-award.xsd ...\n",
      "Creating xsdrt/maindoc/UBL-ContractNotice-2.3-Pre-award.xsd ...\n",
      "Creating xsdrt/maindoc/UBL-DebitNote-2.3-Pre-award.xsd ...\n",
      "Creating xsdrt/maindoc/UBL-DespatchAdvice-2.3-Pre-award.xsd ...\n",
      "Creating xsdrt/maindoc/UBL-DigitalAgreement-2.3-Pre-award.xsd ...\n",
      "Creating xsdrt/maindoc/UBL-DigitalCapability-2.3-Pre-award.xsd ...\n",
      "Creating xsdrt/maindoc/UBL-DocumentStatus-2.3-Pre-award.xsd ...\n",
      "Creating xsdrt/maindoc/UBL-DocumentStatusRequest-2.3-Pre-award.xsd ...\n",
      "Creating xsdrt/maindoc/UBL-Enquiry-2.3-Pre-award.xsd ...\n",
      "Creating xsdrt/maindoc/UBL-EnquiryResponse-2.3-Pre-award.xsd ...\n",
      "Creating xsdrt/maindoc/UBL-ExceptionCriteria-2.3-Pre-award.xsd ...\n",
      "Creating xsdrt/maindoc/UBL-ExceptionNotification-2.3-Pre-award.xsd ...\n",
      "Creating xsdrt/maindoc/UBL-ExpressionOfInterestRequest-2.3-Pre-award.xsd ...\n",
      "Creating xsdrt/maindoc/UBL-ExpressionOfInterestResponse-2.3-Pre-award.xsd ...\n",
      "Creating xsdrt/maindoc/UBL-Forecast-2.3-Pre-award.xsd ...\n",
      "Creating xsdrt/maindoc/UBL-ForecastRevision-2.3-Pre-award.xsd ...\n",
      "Creating xsdrt/maindoc/UBL-ForwardingInstructions-2.3-Pre-award.xsd ...\n",
      "Creating xsdrt/maindoc/UBL-FreightInvoice-2.3-Pre-award.xsd ...\n",
      "Creating xsdrt/maindoc/UBL-FulfilmentCancellation-2.3-Pre-award.xsd ...\n",
      "Creating xsdrt/maindoc/UBL-GoodsItemItinerary-2.3-Pre-award.xsd ...\n",
      "Creating xsdrt/maindoc/UBL-GuaranteeCertificate-2.3-Pre-award.xsd ...\n",
      "Creating xsdrt/maindoc/UBL-InstructionForReturns-2.3-Pre-award.xsd ...\n",
      "Creating xsdrt/maindoc/UBL-InventoryReport-2.3-Pre-award.xsd ...\n",
      "Creating xsdrt/maindoc/UBL-Invoice-2.3-Pre-award.xsd ...\n",
      "Creating xsdrt/maindoc/UBL-ItemInformationRequest-2.3-Pre-award.xsd ...\n",
      "Creating xsdrt/maindoc/UBL-Order-2.3-Pre-award.xsd ...\n",
      "Creating xsdrt/maindoc/UBL-OrderCancellation-2.3-Pre-award.xsd ...\n",
      "Creating xsdrt/maindoc/UBL-OrderChange-2.3-Pre-award.xsd ...\n",
      "Creating xsdrt/maindoc/UBL-OrderResponse-2.3-Pre-award.xsd ...\n",
      "Creating xsdrt/maindoc/UBL-OrderResponseSimple-2.3-Pre-award.xsd ...\n",
      "Creating xsdrt/maindoc/UBL-PackingList-2.3-Pre-award.xsd ...\n",
      "Creating xsdrt/maindoc/UBL-PriorInformationNotice-2.3-Pre-award.xsd ...\n",
      "Creating xsdrt/maindoc/UBL-ProductActivity-2.3-Pre-award.xsd ...\n",
      "Creating xsdrt/maindoc/UBL-QualificationApplicationRequest-2.3-Pre-award.xsd ...\n",
      "Creating xsdrt/maindoc/UBL-QualificationApplicationResponse-2.3-Pre-award.xsd ...\n",
      "Creating xsdrt/maindoc/UBL-Quotation-2.3-Pre-award.xsd ...\n",
      "Creating xsdrt/maindoc/UBL-ReceiptAdvice-2.3-Pre-award.xsd ...\n",
      "Creating xsdrt/maindoc/UBL-Reminder-2.3-Pre-award.xsd ...\n",
      "Creating xsdrt/maindoc/UBL-RemittanceAdvice-2.3-Pre-award.xsd ...\n",
      "Creating xsdrt/maindoc/UBL-RequestForQuotation-2.3-Pre-award.xsd ...\n",
      "Creating xsdrt/maindoc/UBL-RetailEvent-2.3-Pre-award.xsd ...\n",
      "Creating xsdrt/maindoc/UBL-SelfBilledCreditNote-2.3-Pre-award.xsd ...\n",
      "Creating xsdrt/maindoc/UBL-SelfBilledInvoice-2.3-Pre-award.xsd ...\n",
      "Creating xsdrt/maindoc/UBL-Statement-2.3-Pre-award.xsd ...\n",
      "Creating xsdrt/maindoc/UBL-StockAvailabilityReport-2.3-Pre-award.xsd ...\n",
      "Creating xsdrt/maindoc/UBL-Tender-2.3-Pre-award.xsd ...\n",
      "Creating xsdrt/maindoc/UBL-TenderContract-2.3-Pre-award.xsd ...\n",
      "Creating xsdrt/maindoc/UBL-TenderReceipt-2.3-Pre-award.xsd ...\n",
      "Creating xsdrt/maindoc/UBL-TenderStatus-2.3-Pre-award.xsd ...\n",
      "Creating xsdrt/maindoc/UBL-TenderStatusRequest-2.3-Pre-award.xsd ...\n",
      "Creating xsdrt/maindoc/UBL-TenderWithdrawal-2.3-Pre-award.xsd ...\n",
      "Creating xsdrt/maindoc/UBL-TendererQualification-2.3-Pre-award.xsd ...\n",
      "Creating xsdrt/maindoc/UBL-TendererQualificationResponse-2.3-Pre-award.xsd ...\n",
      "Creating xsdrt/maindoc/UBL-TradeItemLocationProfile-2.3-Pre-award.xsd ...\n",
      "Creating xsdrt/maindoc/UBL-TransportExecutionPlan-2.3-Pre-award.xsd ...\n"
     ]
    },
    {
     "name": "stderr",
     "output_type": "stream",
     "text": [
      "Creating xsdrt/maindoc/UBL-TransportExecutionPlanRequest-2.3-Pre-award.xsd ...\n",
      "Creating xsdrt/maindoc/UBL-TransportProgressStatus-2.3-Pre-award.xsd ...\n",
      "Creating xsdrt/maindoc/UBL-TransportProgressStatusRequest-2.3-Pre-award.xsd ...\n",
      "Creating xsdrt/maindoc/UBL-TransportServiceDescription-2.3-Pre-award.xsd ...\n",
      "Creating xsdrt/maindoc/UBL-TransportServiceDescriptionRequest-2.3-Pre-award.xsd ...\n",
      "Creating xsdrt/maindoc/UBL-TransportationStatus-2.3-Pre-award.xsd ...\n",
      "Creating xsdrt/maindoc/UBL-TransportationStatusRequest-2.3-Pre-award.xsd ...\n",
      "Creating xsdrt/maindoc/UBL-UnawardedNotification-2.3-Pre-award.xsd ...\n",
      "Creating xsdrt/maindoc/UBL-UnsubscribeFromProcedureRequest-2.3-Pre-award.xsd ...\n",
      "Creating xsdrt/maindoc/UBL-UnsubscribeFromProcedureResponse-2.3-Pre-award.xsd ...\n",
      "Creating xsdrt/maindoc/UBL-UtilityStatement-2.3-Pre-award.xsd ...\n",
      "Creating xsdrt/maindoc/UBL-Waybill-2.3-Pre-award.xsd ...\n",
      "Creating xsdrt/maindoc/UBL-WeightStatement-2.3-Pre-award.xsd ...\n",
      "Creating xsdrt/common/UBL-CommonAggregateComponents-2.3-Pre-award.xsd ...\n",
      "Creating xsdrt/common/UBL-CommonBasicComponents-2.3-Pre-award.xsd ...\n",
      "Creating xsdrt/common/UBL-QualifiedDataTypes-2.3-Pre-award.xsd ...\n"
     ]
    },
    {
     "name": "stdout",
     "output_type": "stream",
     "text": [
      "Transformation ended at: 20:13:13\n"
     ]
    }
   ],
   "source": [
    "// Remember to set the skipper variable to `false` if you want this code to be executed!\n",
    "if (!gc2ndr_Skip){\n",
    "    showStartTime();\n",
    "    String[] argsLine = {gc2ndrParXSL, gc2ndrSource, gc2ndrO, gc2ndrConfig_uri, gc2ndrErrorBehaviour, gc2ndrSuprXMLns, gc2ndrABIEext};\n",
    "    t(argsLine);\n",
    "    showEndTime();\n",
    "}"
   ]
  },
  {
   "cell_type": "code",
   "execution_count": null,
   "metadata": {},
   "outputs": [],
   "source": []
  },
  {
   "cell_type": "code",
   "execution_count": null,
   "metadata": {},
   "outputs": [],
   "source": []
  }
 ],
 "metadata": {
  "kernelspec": {
   "display_name": "Java",
   "language": "java",
   "name": "java"
  },
  "language_info": {
   "codemirror_mode": "java",
   "file_extension": ".java",
   "mimetype": "text/x-java-source",
   "name": "Java",
   "pygments_lexer": "java",
   "version": "11.0.1+13-Ubuntu-3ubuntu3.18.10.1"
  }
 },
 "nbformat": 4,
 "nbformat_minor": 2
}
