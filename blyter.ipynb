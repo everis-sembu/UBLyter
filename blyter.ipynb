{
 "cells": [
  {
   "cell_type": "markdown",
   "metadata": {},
   "source": [
    "# Welcome to UBLyter !"
   ]
  },
  {
   "cell_type": "markdown",
   "metadata": {},
   "source": [
    "_UBLyter_ is an [everis](https://www.everis.com/global/en) **SEMBU** environment for the generation of [OASIS UBL-2.x](http://docs.oasis-open.org/ubl/cs01-UBL-2.2/UBL-2.2.html) artefacts. The current version is UBLyter v0.1, which focuses only on the Pre-award stage. The status of the development is \"just started!\". Feel free to contribute by creating issues and commenting on the [Ublyter GitHub](https://github.com/everis-sembu/ublyter)."
   ]
  },
  {
   "cell_type": "markdown",
   "metadata": {},
   "source": [
    "## Edit the model"
   ]
  },
  {
   "cell_type": "markdown",
   "metadata": {},
   "source": [
    "* Download the [UBL-2.3 model](./mod/UBL-Pre-award-2.3.ods),\n",
    "\n",
    "* Modify the model (introduce the changes you need),\n",
    "\n",
    "* Upload it ([how to upload](http://everis-sembu.github.io/how-to-upload.html))"
   ]
  },
  {
   "cell_type": "markdown",
   "metadata": {},
   "source": [
    "## Set the main distribution parameters"
   ]
  },
  {
   "cell_type": "code",
   "execution_count": 3,
   "metadata": {},
   "outputs": [],
   "source": [
    "String \n",
    "    modelName      = \"Pre-award\",\n",
    "    stage          = \"preaward02\", \n",
    "    version        = \"test\", // the name of the target resulting version\n",
    "    datetimelocal  = \"20190331-1500z\",\n",
    "    UBLversion     = \"2.3\"; // the version of the UBL distribution this model is based on\n",
    "\n"
   ]
  },
  {
   "cell_type": "code",
   "execution_count": 4,
   "metadata": {},
   "outputs": [],
   "source": [
    "// Cranesoftwrights tooling timestamps\n",
    "String \n",
    "    gc2obdndr = \"20190320-0140z\",\n",
    "    ods2obdgc = \"20180921-2010z\",\n",
    "    cvagcxsl  = \"20130416-0040z\",\n",
    "    cva2sch   = \"20130207-1940z\",\n",
    "    gc2odsxml = \"20170727-0220z\";"
   ]
  },
  {
   "cell_type": "markdown",
   "metadata": {},
   "source": [
    "## Environment configuration"
   ]
  },
  {
   "cell_type": "markdown",
   "metadata": {},
   "source": [
    "### Location of the `*.jar` files\n",
    "\n",
    "Jupyter-notebook needs to know where to locate the saxon and other java resources. \n",
    "\n",
    "The code below is intended uniquely for Linux. It wont work for Windows. Check this URL for an example of how to handle this in other OS: https://stackoverflow.com/questions/318239/how-do-i-set-environment-variables-from-java"
   ]
  },
  {
   "cell_type": "markdown",
   "metadata": {},
   "source": [
    "#### Set environment variable(s)"
   ]
  },
  {
   "cell_type": "markdown",
   "metadata": {},
   "source": [
    "[TODO]: this is not working. Review, please."
   ]
  },
  {
   "cell_type": "code",
   "execution_count": 5,
   "metadata": {},
   "outputs": [],
   "source": [
    "import java.lang.reflect.Field;\n",
    "\n",
    "String key = \"IJAVA_CLASSPATH\", value = \"./lib/*.jar\";\n",
    "\n",
    "try {\n",
    "        Map<String, String> env = System.getenv();\n",
    "        Class<?> cl = env.getClass();\n",
    "        Field field = cl.getDeclaredField(\"m\");\n",
    "        field.setAccessible(true);\n",
    "        Map<String, String> writableEnv = (Map<String, String>) field.get(env);\n",
    "        writableEnv.put(key, value);\n",
    "    } catch (Exception e) {\n",
    "        throw new IllegalStateException(\"Failed to set environment variable\", e);\n",
    "    }\n",
    "\n"
   ]
  },
  {
   "cell_type": "markdown",
   "metadata": {},
   "source": [
    "#### Check that the environment variable(s) are seen by the Jupyter-notebook"
   ]
  },
  {
   "cell_type": "code",
   "execution_count": 6,
   "metadata": {},
   "outputs": [
    {
     "name": "stdout",
     "output_type": "stream",
     "text": [
      "IJAVA_CLASSPATH = ./lib/*.jar\n"
     ]
    }
   ],
   "source": [
    "Map<String, String> env = System.getenv();\n",
    "System.out.println(\"IJAVA_CLASSPATH = \" + env.get(\"IJAVA_CLASSPATH\"));"
   ]
  },
  {
   "cell_type": "markdown",
   "metadata": {},
   "source": [
    "### Global directory and file path names"
   ]
  },
  {
   "cell_type": "markdown",
   "metadata": {},
   "source": [
    "The following variables are used along the lifecycle of the execution to specify input and output directory and file names."
   ]
  },
  {
   "cell_type": "code",
   "execution_count": 7,
   "metadata": {},
   "outputs": [],
   "source": [
    "String targetDir = \"./\" + stage + \"-\" + UBLversion + \"/\"; // Ouput distribution directory \n",
    "String mod       = \"./mod/\"; // Location of the model. In UBL models are maintained as spread-sheets!\n",
    "String ident     = \"./ident/\"; // Metadata for the identification of the BIE(s), namespaces, UBLversion, etc.\n",
    "String massage   = \"./massage/\"; // ODS tabs names need to be spanned\n",
    "String util      = \"./util/\"; // Utilities directory: Cranesoftwright's XSL-T files\n",
    "String lengthen_model_name_uri = massage + \"massageModelName-\" + UBLversion + \".xml\";"
   ]
  },
  {
   "cell_type": "markdown",
   "metadata": {},
   "source": [
    "#### Check variables"
   ]
  },
  {
   "cell_type": "code",
   "execution_count": 8,
   "metadata": {},
   "outputs": [
    {
     "name": "stdout",
     "output_type": "stream",
     "text": [
      "./preaward02-2.3/\n",
      "./mod/\n",
      "./ident/\n",
      "./massage/\n",
      "./massage/massageModelName-2.3.xml\n"
     ]
    }
   ],
   "source": [
    "System.out.println(targetDir);\n",
    "System.out.println(mod);\n",
    "System.out.println(ident );\n",
    "System.out.println(massage );\n",
    "System.out.println(lengthen_model_name_uri);"
   ]
  },
  {
   "cell_type": "markdown",
   "metadata": {},
   "source": [
    "## Raw files"
   ]
  },
  {
   "cell_type": "markdown",
   "metadata": {},
   "source": [
    "The UBL distribution is organised around a bunch of **constant** folders and files that are part of the data architecture, data validation, documentation, etc. There is no point in creating these from scratch every time, so they are copied from a kind of template (*raw*) directory into the target output directory.\n",
    "\n",
    "This implies that the \"raw\" folder, and its content, is necessary **before** the production of the XSD schemas. So make sure that the **_raw_** folder exists and contains the right original files. \n",
    "\n",
    "The next cells are used to:\n",
    "\n",
    "1. Specify where these \"raw\" folder and files are located, and\n",
    "2. Copy them in the target (output) directory."
   ]
  },
  {
   "cell_type": "code",
   "execution_count": 9,
   "metadata": {},
   "outputs": [],
   "source": [
    "String rawDir = \"./\" + \"raw\" + \"/\";"
   ]
  },
  {
   "cell_type": "code",
   "execution_count": 10,
   "metadata": {},
   "outputs": [],
   "source": [
    "import org.apache.commons.io.FileUtils;\n",
    "import java.io.File;\n",
    "import java.io.IOException;\n",
    "\n",
    "try {\n",
    "    FileUtils.copyDirectory(new File(rawDir), new File(targetDir));\n",
    "} catch (IOException e) {\n",
    "    e.printStackTrace();\n",
    "}\n"
   ]
  },
  {
   "cell_type": "markdown",
   "metadata": {},
   "source": [
    "## Creation of the GeneriCode (GC) files"
   ]
  },
  {
   "cell_type": "markdown",
   "metadata": {},
   "source": [
    "[GeneriCode](http://docs.oasis-open.org/codelist/ns/genericode/1.0/) (GC) is an OASIS XML specification for the expression of tables. The OASIS UBL tooling uses GC as a **_pivot_** format that is used in several different ways, e.g. to check NDR and as the input for subsequent generation of W3C XSD schemas, [CVA](http://docs.oasis-open.org/codelist/cs01-ContextValueAssociation-1.0/doc/context-value-association.html) files, HTML reporting and other types of transformations."
   ]
  },
  {
   "cell_type": "markdown",
   "metadata": {},
   "source": [
    "### Configuration"
   ]
  },
  {
   "cell_type": "markdown",
   "metadata": {},
   "source": [
    "#### Set file path names for the transformation"
   ]
  },
  {
   "cell_type": "code",
   "execution_count": 12,
   "metadata": {},
   "outputs": [],
   "source": [
    "// Cranesoftwright's transformation stylesheet\n",
    "String xsl     = \"-xsl:\" + util + \"Crane-ods2obdgc-\" + ods2obdgc + \"/Crane-ods2obdgc.xsl\";\n",
    "\n",
    "// Input files for the transformation\n",
    "String\n",
    "    source1                 = mod + \"UBL-Library-\" + UBLversion + \".ods\",\n",
    "    source2                 = mod + \"UBL-Documents-\" + UBLversion + \".ods\",\n",
    "    identification          = ident + \"ident-UBL-\"+ UBLversion + \"-\" + modelName + \".xml\",\n",
    "    lengthen_model_name_uri = massage + \"massageModelName-\" + UBLversion + \".xml\";\n",
    "\n",
    "//Output file\n",
    "String target = mod + \"UBL-Entities-\" + UBLversion + \".gc\";\n",
    "\n",
    "// Parameters for the Transform class\n",
    "String xsl     = \"-xsl:\" + util + \"Crane-ods2obdgc-\" + ods2obdgc + \"/Crane-ods2obdgc.xsl\";\n",
    "String o       = \"-o:\" + target;\n",
    "String it      = \"-it:ods-uri\";\n",
    "String ods_uri = \"ods-uri=\" + source1 + \",\" + source2;\n",
    "// The XSL-T base directory is \"./util/Crane-ods2obdgc-20180921-2010z\" (whilst the jupyter notebook is \"./\") hence the ident file is in \"../../ident/\"\n",
    "String identification_from_util_folder = \"../../ident/\"; \n",
    "String ident_uri = \"identification-uri=\" + identification_from_util_folder + \"ident-UBL-\"+ UBLversion + \"-\" + modelName + \".xml\";"
   ]
  },
  {
   "cell_type": "markdown",
   "metadata": {},
   "source": [
    "#### Check file path names"
   ]
  },
  {
   "cell_type": "code",
   "execution_count": 13,
   "metadata": {},
   "outputs": [
    {
     "name": "stdout",
     "output_type": "stream",
     "text": [
      "./mod/UBL-Library-2.3.ods\n",
      "./mod/UBL-Documents-2.3.ods\n",
      "./mod/UBL-Entities-2.3.gc\n",
      "./ident/ident-UBL-2.3-Pre-award.xml\n",
      "./massage/massageModelName-2.3.xml\n",
      "./mod/UBL-Entities-2.3.gc\n",
      "-xsl:./util/Crane-ods2obdgc-20180921-2010z/Crane-ods2obdgc.xsl\n",
      "-o:./mod/UBL-Entities-2.3.gc\n",
      "-it:ods-uri\n",
      "ods-uri=./mod/UBL-Library-2.3.ods,./mod/UBL-Documents-2.3.ods\n",
      "../../ident/\n",
      "identification-uri=../../ident/ident-UBL-2.3-Pre-award.xml\n"
     ]
    }
   ],
   "source": [
    "// Show the files names. For debug purposes only. Remove in final version.\n",
    "System.out.println(source1);\n",
    "System.out.println(source2);\n",
    "System.out.println(target);\n",
    "System.out.println(identification);\n",
    "System.out.println(lengthen_model_name_uri);\n",
    "System.out.println(target);\n",
    "System.out.println(xsl);\n",
    "System.out.println(o);\n",
    "System.out.println(it);\n",
    "System.out.println(ods_uri);\n",
    "System.out.println(identification_from_util_folder);\n",
    "System.out.println(ident_uri);"
   ]
  },
  {
   "cell_type": "markdown",
   "metadata": {},
   "source": [
    "#### Check if input files are present\n",
    "\n",
    "(_If no error messages are thrown then all the files are present_)"
   ]
  },
  {
   "cell_type": "code",
   "execution_count": 14,
   "metadata": {},
   "outputs": [],
   "source": [
    "if(!new File(source1).exists()) System.err.println(\"File \" + source1 + \" was not located in folder \" + mod);\n",
    "if(!new File(source2).exists()) System.err.println(\"File \" + source2 + \" was not located in folder \" + mod);\n",
    "if(!new File(identification).exists()) System.err.println(\"File \" + identification + \" was not located in folder \" + ident);\n",
    "if(!new File(lengthen_model_name_uri).exists()) System.err.println(\"File \" + lengthen_model_name_uri + \" was not located in folder \" + massage);"
   ]
  },
  {
   "cell_type": "markdown",
   "metadata": {},
   "source": [
    "### Generation of the GC files"
   ]
  },
  {
   "cell_type": "code",
   "execution_count": 22,
   "metadata": {},
   "outputs": [
    {
     "name": "stdout",
     "output_type": "stream",
     "text": [
      "Transformation started at: 02:10:00this may take some minutes...\n"
     ]
    },
    {
     "ename": "EvaluationInterruptedException",
     "evalue": "Evaluator was interrupted while executing: 'Transform.main(arglist);'",
     "output_type": "error",
     "traceback": [
      "\u001b[1m\u001b[30m|   \u001b[1m\u001b[30mTransform.main(arglist);\u001b[0m",
      "\u001b[1m\u001b[31mEvaluation interrupted.\u001b[0m"
     ]
    }
   ],
   "source": [
    "import net.sf.saxon.Transform;\n",
    "import java.text.SimpleDateFormat;\n",
    "import java.util.Calendar;\n",
    "\n",
    "Calendar cal = Calendar.getInstance();\n",
    "SimpleDateFormat sdf = new SimpleDateFormat(\"HH:mm:ss\");    \n",
    "\n",
    "String[] arglist = {xsl, o, it, ods_uri, ident_uri};\n",
    "\n",
    "System.out.println(\"Transformation started at: \" + sdf.format(cal.getTime()) + \"this may take some minutes...\");\n",
    "\n",
    "Transform.main(arglist);\n",
    "\n",
    "sdf = new SimpleDateFormat(\"HH:mm:ss\");    \n",
    "System.out.println(\"Transformation ended at: \" + sdf.format(cal.getTime());"
   ]
  },
  {
   "cell_type": "code",
   "execution_count": null,
   "metadata": {},
   "outputs": [],
   "source": []
  }
 ],
 "metadata": {
  "kernelspec": {
   "display_name": "Java",
   "language": "java",
   "name": "java"
  },
  "language_info": {
   "codemirror_mode": "java",
   "file_extension": ".java",
   "mimetype": "text/x-java-source",
   "name": "Java",
   "pygments_lexer": "java",
   "version": "11.0.1+13-Ubuntu-3ubuntu3.18.10.1"
  }
 },
 "nbformat": 4,
 "nbformat_minor": 2
}
