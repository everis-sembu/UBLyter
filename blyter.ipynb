{
 "cells": [
  {
   "cell_type": "markdown",
   "metadata": {},
   "source": [
    "# Welcome to UBLyter !"
   ]
  },
  {
   "cell_type": "markdown",
   "metadata": {},
   "source": [
    "_UBLyter_ is an [everis](https://www.everis.com/global/en) **SEMBU** environment for the generation of [OASIS UBL-2.x](http://docs.oasis-open.org/ubl/cs01-UBL-2.2/UBL-2.2.html) artefacts. The current version is UBLyter v0.1, which focuses only on the Pre-award stage. The status of the development is \"just started!\". Feel free to contribute by creating issues and commenting on the [Ublyter GitHub](https://github.com/everis-sembu/ublyter)."
   ]
  },
  {
   "cell_type": "markdown",
   "metadata": {},
   "source": [
    "## Edit the model"
   ]
  },
  {
   "cell_type": "markdown",
   "metadata": {},
   "source": [
    "* Download the [UBL-2.3 model](./mod/UBL-Pre-award-2.3.ods),\n",
    "\n",
    "* Modify the model (introduce the changes you need),\n",
    "\n",
    "* Upload it ([how to upload](http://everis-sembu.github.io/how-to-upload.html))"
   ]
  },
  {
   "cell_type": "markdown",
   "metadata": {},
   "source": [
    "## Set the main distribution parameters"
   ]
  },
  {
   "cell_type": "code",
   "execution_count": 14,
   "metadata": {},
   "outputs": [],
   "source": [
    "String \n",
    "    stage          = \"preaward02\", \n",
    "    version        = \"test\", // the name of the target resulting version\n",
    "    datetimelocal  = \"20190331-1500z\"; // now\n"
   ]
  },
  {
   "cell_type": "markdown",
   "metadata": {},
   "source": [
    "## Set the global variables"
   ]
  },
  {
   "cell_type": "markdown",
   "metadata": {},
   "source": [
    "### Location of the `*.jar` files\n",
    "\n",
    "Jupyter-notebook needs to know where to locate the saxon and other java resources. \n",
    "\n",
    "The code below is intended uniquely for Linux. It wont work for Windows. Check this URL for an example of how to handle this in other OS: https://stackoverflow.com/questions/318239/how-do-i-set-environment-variables-from-java"
   ]
  },
  {
   "cell_type": "markdown",
   "metadata": {},
   "source": [
    "#### Set environment variables"
   ]
  },
  {
   "cell_type": "code",
   "execution_count": 22,
   "metadata": {},
   "outputs": [],
   "source": [
    "import java.lang.reflect.Field;\n",
    "\n",
    "try {\n",
    "        Map<String, String> env = System.getenv();\n",
    "        Class<?> cl = env.getClass();\n",
    "        Field field = cl.getDeclaredField(\"m\");\n",
    "        field.setAccessible(true);\n",
    "        Map<String, String> writableEnv = (Map<String, String>) field.get(env);\n",
    "        writableEnv.put(\"IJAVA_CLASSPATH\", \"./lib/*.jar\");\n",
    "    } catch (Exception e) {\n",
    "        throw new IllegalStateException(\"Failed to set environment variable\", e);\n",
    "    }\n",
    "\n"
   ]
  },
  {
   "cell_type": "markdown",
   "metadata": {},
   "source": [
    "#### Check that the environment variables are seen by the Jupyter-notebook"
   ]
  },
  {
   "cell_type": "code",
   "execution_count": 21,
   "metadata": {},
   "outputs": [
    {
     "name": "stdout",
     "output_type": "stream",
     "text": [
      "./lib/*.jar\n"
     ]
    }
   ],
   "source": [
    "Map<String, String> env = System.getenv();\n",
    "String value = env.get( \"IJAVA_CLASSPATH\" );\n",
    "System.out.println(value);"
   ]
  },
  {
   "cell_type": "code",
   "execution_count": null,
   "metadata": {},
   "outputs": [],
   "source": []
  }
 ],
 "metadata": {
  "kernelspec": {
   "display_name": "Java",
   "language": "java",
   "name": "java"
  },
  "language_info": {
   "codemirror_mode": "java",
   "file_extension": ".java",
   "mimetype": "text/x-java-source",
   "name": "Java",
   "pygments_lexer": "java",
   "version": "11.0.1+13-Ubuntu-3ubuntu3.18.10.1"
  }
 },
 "nbformat": 4,
 "nbformat_minor": 2
}
