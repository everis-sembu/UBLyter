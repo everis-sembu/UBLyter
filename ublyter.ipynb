{
 "cells": [
  {
   "cell_type": "markdown",
   "metadata": {},
   "source": [
    "# Welcome to UBLyter !"
   ]
  },
  {
   "cell_type": "markdown",
   "metadata": {},
   "source": [
    "_UBLyter_ is an [everis](https://www.everis.com/global/en) **SEMBU** environment for the generation of [OASIS UBL-2.x](http://docs.oasis-open.org/ubl/cs01-UBL-2.2/UBL-2.2.html) artefacts. The current version is UBLyter v0.1, which focuses only on the Pre-award stage. The status of the development is \"just started!\". Feel free to contribute by creating issues and commenting on the [Ublyter GitHub](https://github.com/everis-sembu/ublyter)."
   ]
  },
  {
   "cell_type": "markdown",
   "metadata": {},
   "source": [
    "## Edit the model"
   ]
  },
  {
   "cell_type": "markdown",
   "metadata": {},
   "source": [
    "* Download the [UBL-2.3 model](./mod/UBL-Pre-award-2.3.ods),\n",
    "\n",
    "* Modify the model (introduce the changes you need),\n",
    "\n",
    "* Upload it ([how to upload](http://everis-sembu.github.io/how-to-upload.html))"
   ]
  },
  {
   "cell_type": "markdown",
   "metadata": {},
   "source": [
    "## Set the main distribution parameters"
   ]
  },
  {
   "cell_type": "code",
   "execution_count": 10,
   "metadata": {},
   "outputs": [],
   "source": [
    "String \n",
    "    stage   = \"Pre-award\",\n",
    "    UBLversion = \"2.3\",\n",
    "    tstamp  = \"20190331-1500z\";\n"
   ]
  },
  {
   "cell_type": "markdown",
   "metadata": {},
   "source": [
    "## Set the global environment variables"
   ]
  },
  {
   "cell_type": "markdown",
   "metadata": {},
   "source": [
    "#### Folder names"
   ]
  },
  {
   "cell_type": "code",
   "execution_count": 11,
   "metadata": {},
   "outputs": [],
   "source": [
    "// Folder names\n",
    "String mod     = \"./mod/\";     // Model and other ODF files\n",
    "String gc      = \"./gc/\";      // Genericode files\n",
    "//String ident   = \"./ident/\";   // Identification files\n",
    "String ident   = \"./ident/\";   // Identification files\n",
    "String massage = \"./massage/\"; // Massaging files\n",
    "String util    = \"./util/\";    // Cranesoftwright tools"
   ]
  },
  {
   "cell_type": "markdown",
   "metadata": {},
   "source": [
    "#### Cranesoftwrights tooling timestamps"
   ]
  },
  {
   "cell_type": "code",
   "execution_count": 12,
   "metadata": {},
   "outputs": [],
   "source": [
    "String \n",
    "    gc2obdndr = \"20190320-0140z\",\n",
    "    ods2obdgc = \"20180921-2010z\",\n",
    "    cvagcxsl  = \"20130416-0040z\",\n",
    "    cva2sch   = \"20130207-1940z\",\n",
    "    gc2odsxml = \"20170727-0220z\";"
   ]
  },
  {
   "cell_type": "markdown",
   "metadata": {},
   "source": [
    "## Transform the ODF spread-sheet into OASIS Genericode XML "
   ]
  },
  {
   "cell_type": "markdown",
   "metadata": {},
   "source": [
    "### Configure the transformation"
   ]
  },
  {
   "cell_type": "markdown",
   "metadata": {},
   "source": [
    "#### Set the input and output file path names"
   ]
  },
  {
   "cell_type": "code",
   "execution_count": 13,
   "metadata": {},
   "outputs": [],
   "source": [
    "// Input files for the transformation\n",
    "String\n",
    "    source1                 = mod + \"UBL-Library-Google-\" + UBLversion + \".ods\",\n",
    "    source2                 = mod + \"UBL-Documents-Google-\" + UBLversion + \".ods\",\n",
    "    identification          = ident + \"ident-UBL-\"+ UBLversion + \"-\" + stage + \".xml\",\n",
    "    lengthen_model_name_uri = massage + \"massageModelName-\" + UBLversion + \"-\" + stage + \".xml\";\n",
    "\n",
    "//Output file\n",
    "String target = gc + \"UBL-Entities-\" + UBLversion + \".gc\";"
   ]
  },
  {
   "cell_type": "code",
   "execution_count": 14,
   "metadata": {},
   "outputs": [
    {
     "name": "stdout",
     "output_type": "stream",
     "text": [
      "./mod/UBL-Library-Google-2.3.ods\n",
      "./mod/UBL-Documents-Google-2.3.ods\n",
      "./gc/UBL-Entities-2.3.gc\n",
      "./ident/ident-UBL-2.3-Pre-award.xml\n",
      "./massage/massageModelName-2.3-Pre-award.xml\n",
      "./gc/UBL-Entities-2.3.gc\n"
     ]
    }
   ],
   "source": [
    "/*\n",
    "    Show the files names. For debug purposes only. Remove in final version.\n",
    "*/\n",
    "\n",
    "System.out.println(source1);\n",
    "System.out.println(source2);\n",
    "System.out.println(target);\n",
    "System.out.println(identification);\n",
    "System.out.println(lengthen_model_name_uri);\n",
    "System.out.println(target);"
   ]
  },
  {
   "cell_type": "markdown",
   "metadata": {},
   "source": [
    "#### Check if input files are present\n",
    "\n",
    "(_If no error messages are thrown then all the files are present_)"
   ]
  },
  {
   "cell_type": "code",
   "execution_count": 15,
   "metadata": {},
   "outputs": [],
   "source": [
    "if(!new File(source1).exists()) System.err.println(\"File \" + source1 + \" was not located in folder \" + mod);\n",
    "if(!new File(source2).exists()) System.err.println(\"File \" + source2 + \" was not located in folder \" + mod);\n",
    "if(!new File(identification).exists()) System.err.println(\"File \" + identification + \" was not located in folder \" + ident);\n",
    "if(!new File(lengthen_model_name_uri).exists()) System.err.println(\"File \" + lengthen_model_name_uri + \" was not located in folder \" + massage);\n"
   ]
  },
  {
   "cell_type": "markdown",
   "metadata": {},
   "source": [
    "#### Set the arguments for the invocation of the `net.sf.saxon.Transform` class "
   ]
  },
  {
   "cell_type": "code",
   "execution_count": 16,
   "metadata": {},
   "outputs": [],
   "source": [
    "String\n",
    "    xsl     = \"-xsl:\" + util + \"Crane-ods2obdgc-\" + ods2obdgc + \"/Crane-ods2obdgc.xsl\",\n",
    "    o       = \"-o:\" + target,\n",
    "    it      = \"-it:ods-uri\",\n",
    "    ods_uri = \"ods-uri=\" + source1 + \",\" + source2,\n",
    "    identification_from_util_folder = \"../../ident/\", \n",
    "    ident_uri = \"identification-uri=\" + identification_from_util_folder + \"ident-UBL-\"+ UBLversion + \"-\" + stage + \".xml\";"
   ]
  },
  {
   "cell_type": "code",
   "execution_count": 17,
   "metadata": {},
   "outputs": [
    {
     "name": "stdout",
     "output_type": "stream",
     "text": [
      "-xsl:./util/Crane-ods2obdgc-20180921-2010z/Crane-ods2obdgc.xsl\n",
      "-o:./gc/UBL-Entities-2.3.gc\n",
      "-it:ods-uri\n",
      "ods-uri=./mod/UBL-Library-Google-2.3.ods,./mod/UBL-Documents-Google-2.3.ods\n",
      "identification-uri=../../ident/ident-UBL-2.3-Pre-award.xml\n"
     ]
    }
   ],
   "source": [
    "/*\n",
    "    Show the arguments for debug purposes. Remove the soonest.\n",
    "*/\n",
    "System.out.println(xsl);\n",
    "System.out.println(o);\n",
    "System.out.println(it);\n",
    "System.out.println(ods_uri);\n",
    "System.out.println(ident_uri);"
   ]
  },
  {
   "cell_type": "markdown",
   "metadata": {},
   "source": [
    "### Launch the transformation of the `ods` spread-sheet into the Genericode `*.gc` file"
   ]
  },
  {
   "cell_type": "code",
   "execution_count": 18,
   "metadata": {
    "scrolled": false
   },
   "outputs": [
    {
     "name": "stdout",
     "output_type": "stream",
     "text": [
      "Transformation started...this may take a while...\n",
      "Transformation done!\n"
     ]
    }
   ],
   "source": [
    "import net.sf.saxon.Transform;\n",
    "String[] arglist = {xsl, o, it, ods_uri, ident_uri};\n",
    "System.out.println(\"Transformation started...this may take a while...\");\n",
    "Transform.main(arglist);\n",
    "System.out.println(\"Transformation done!\");"
   ]
  },
  {
   "cell_type": "code",
   "execution_count": null,
   "metadata": {},
   "outputs": [],
   "source": []
  }
 ],
 "metadata": {
  "kernelspec": {
   "display_name": "Java",
   "language": "java",
   "name": "java"
  },
  "language_info": {
   "codemirror_mode": "java",
   "file_extension": ".java",
   "mimetype": "text/x-java-source",
   "name": "Java",
   "pygments_lexer": "java",
   "version": "11.0.2+9-LTS"
  }
 },
 "nbformat": 4,
 "nbformat_minor": 2
}
